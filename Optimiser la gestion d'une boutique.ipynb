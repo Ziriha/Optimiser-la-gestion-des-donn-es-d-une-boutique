{
 "cells": [
  {
   "cell_type": "markdown",
   "id": "3cec0425",
   "metadata": {},
   "source": [
    "# Optimisation de la gestion d'une boutique \"Bottleneck\""
   ]
  },
  {
   "cell_type": "markdown",
   "id": "cc25825c",
   "metadata": {},
   "source": [
    "## Importations des librairies et chargement des fichiers dans des dataframes"
   ]
  },
  {
   "cell_type": "code",
   "execution_count": 1,
   "id": "c6bc1126",
   "metadata": {},
   "outputs": [],
   "source": [
    "import pandas as pd\n",
    "import numpy as np\n",
    "import matplotlib.pyplot as plt\n"
   ]
  },
  {
   "cell_type": "markdown",
   "id": "ae478cb9",
   "metadata": {},
   "source": [
    "## Chargement des données"
   ]
  },
  {
   "cell_type": "code",
   "execution_count": 2,
   "id": "aa935478",
   "metadata": {},
   "outputs": [],
   "source": [
    "# Chargement de mes fichier csv dans un dataframe\n",
    "produit = pd.read_csv('/Users/Hamza/Downloads/erp.csv',sep=';')\n",
    "liaison = pd.read_csv('/Users/Hamza/Downloads/liaison.csv', sep=';')\n",
    "web = pd.read_csv('/Users/Hamza/Downloads/web.csv', sep=';')"
   ]
  },
  {
   "cell_type": "markdown",
   "id": "79a4b8f6",
   "metadata": {},
   "source": [
    "# Nettoyage des données"
   ]
  },
  {
   "cell_type": "markdown",
   "id": "37397afe",
   "metadata": {},
   "source": [
    "### 1) D'abord les données provenant de l'ERP du dataframe appelé Produit"
   ]
  },
  {
   "cell_type": "code",
   "execution_count": 3,
   "id": "6dc4c022",
   "metadata": {},
   "outputs": [
    {
     "data": {
      "text/html": [
       "<div>\n",
       "<style scoped>\n",
       "    .dataframe tbody tr th:only-of-type {\n",
       "        vertical-align: middle;\n",
       "    }\n",
       "\n",
       "    .dataframe tbody tr th {\n",
       "        vertical-align: top;\n",
       "    }\n",
       "\n",
       "    .dataframe thead th {\n",
       "        text-align: right;\n",
       "    }\n",
       "</style>\n",
       "<table border=\"1\" class=\"dataframe\">\n",
       "  <thead>\n",
       "    <tr style=\"text-align: right;\">\n",
       "      <th></th>\n",
       "      <th>product_id</th>\n",
       "      <th>onsale_web</th>\n",
       "      <th>price</th>\n",
       "      <th>stock_quantity</th>\n",
       "      <th>stock_status</th>\n",
       "    </tr>\n",
       "  </thead>\n",
       "  <tbody>\n",
       "    <tr>\n",
       "      <th>0</th>\n",
       "      <td>3847</td>\n",
       "      <td>1</td>\n",
       "      <td>24,2</td>\n",
       "      <td>0</td>\n",
       "      <td>outofstock</td>\n",
       "    </tr>\n",
       "    <tr>\n",
       "      <th>1</th>\n",
       "      <td>3849</td>\n",
       "      <td>1</td>\n",
       "      <td>34,3</td>\n",
       "      <td>0</td>\n",
       "      <td>outofstock</td>\n",
       "    </tr>\n",
       "    <tr>\n",
       "      <th>2</th>\n",
       "      <td>3850</td>\n",
       "      <td>1</td>\n",
       "      <td>20,8</td>\n",
       "      <td>0</td>\n",
       "      <td>outofstock</td>\n",
       "    </tr>\n",
       "    <tr>\n",
       "      <th>3</th>\n",
       "      <td>4032</td>\n",
       "      <td>1</td>\n",
       "      <td>14,1</td>\n",
       "      <td>0</td>\n",
       "      <td>outofstock</td>\n",
       "    </tr>\n",
       "    <tr>\n",
       "      <th>4</th>\n",
       "      <td>4039</td>\n",
       "      <td>1</td>\n",
       "      <td>46</td>\n",
       "      <td>0</td>\n",
       "      <td>outofstock</td>\n",
       "    </tr>\n",
       "  </tbody>\n",
       "</table>\n",
       "</div>"
      ],
      "text/plain": [
       "   product_id  onsale_web price  stock_quantity stock_status\n",
       "0        3847           1  24,2               0   outofstock\n",
       "1        3849           1  34,3               0   outofstock\n",
       "2        3850           1  20,8               0   outofstock\n",
       "3        4032           1  14,1               0   outofstock\n",
       "4        4039           1    46               0   outofstock"
      ]
     },
     "execution_count": 3,
     "metadata": {},
     "output_type": "execute_result"
    }
   ],
   "source": [
    "# Visualisation \n",
    "produit.head()"
   ]
  },
  {
   "cell_type": "code",
   "execution_count": 4,
   "id": "1222864d",
   "metadata": {},
   "outputs": [
    {
     "data": {
      "text/plain": [
       "product_id         int64\n",
       "onsale_web         int64\n",
       "price             object\n",
       "stock_quantity     int64\n",
       "stock_status      object\n",
       "dtype: object"
      ]
     },
     "execution_count": 4,
     "metadata": {},
     "output_type": "execute_result"
    }
   ],
   "source": [
    "# Je regarde le type des variables\n",
    "produit.dtypes"
   ]
  },
  {
   "cell_type": "markdown",
   "id": "c3fec079",
   "metadata": {},
   "source": [
    "### La variable price n'est pas adapté, je converti en float"
   ]
  },
  {
   "cell_type": "code",
   "execution_count": 5,
   "id": "227bce7c",
   "metadata": {},
   "outputs": [
    {
     "data": {
      "text/plain": [
       "dtype('float64')"
      ]
     },
     "execution_count": 5,
     "metadata": {},
     "output_type": "execute_result"
    }
   ],
   "source": [
    "# Je remplace les virgules par des points sinon le changement en float n'est pas possible\n",
    "# puis je change le type de ma colonne en float\n",
    "\n",
    "produit['price'] = produit['price'].str.replace(',','.').astype('float64')\n",
    "#je verifie\n",
    "produit['price'].dtype"
   ]
  },
  {
   "cell_type": "code",
   "execution_count": 6,
   "id": "f9653918",
   "metadata": {},
   "outputs": [
    {
     "data": {
      "text/html": [
       "<div>\n",
       "<style scoped>\n",
       "    .dataframe tbody tr th:only-of-type {\n",
       "        vertical-align: middle;\n",
       "    }\n",
       "\n",
       "    .dataframe tbody tr th {\n",
       "        vertical-align: top;\n",
       "    }\n",
       "\n",
       "    .dataframe thead th {\n",
       "        text-align: right;\n",
       "    }\n",
       "</style>\n",
       "<table border=\"1\" class=\"dataframe\">\n",
       "  <thead>\n",
       "    <tr style=\"text-align: right;\">\n",
       "      <th></th>\n",
       "      <th>product_id</th>\n",
       "      <th>onsale_web</th>\n",
       "      <th>price</th>\n",
       "      <th>stock_quantity</th>\n",
       "      <th>stock_status</th>\n",
       "    </tr>\n",
       "  </thead>\n",
       "  <tbody>\n",
       "    <tr>\n",
       "      <th>count</th>\n",
       "      <td>825.000000</td>\n",
       "      <td>825.000000</td>\n",
       "      <td>825.000000</td>\n",
       "      <td>825.000000</td>\n",
       "      <td>825</td>\n",
       "    </tr>\n",
       "    <tr>\n",
       "      <th>unique</th>\n",
       "      <td>NaN</td>\n",
       "      <td>NaN</td>\n",
       "      <td>NaN</td>\n",
       "      <td>NaN</td>\n",
       "      <td>2</td>\n",
       "    </tr>\n",
       "    <tr>\n",
       "      <th>top</th>\n",
       "      <td>NaN</td>\n",
       "      <td>NaN</td>\n",
       "      <td>NaN</td>\n",
       "      <td>NaN</td>\n",
       "      <td>instock</td>\n",
       "    </tr>\n",
       "    <tr>\n",
       "      <th>freq</th>\n",
       "      <td>NaN</td>\n",
       "      <td>NaN</td>\n",
       "      <td>NaN</td>\n",
       "      <td>NaN</td>\n",
       "      <td>638</td>\n",
       "    </tr>\n",
       "    <tr>\n",
       "      <th>mean</th>\n",
       "      <td>5162.597576</td>\n",
       "      <td>0.869091</td>\n",
       "      <td>32.415636</td>\n",
       "      <td>26.496970</td>\n",
       "      <td>NaN</td>\n",
       "    </tr>\n",
       "    <tr>\n",
       "      <th>std</th>\n",
       "      <td>902.644635</td>\n",
       "      <td>0.337506</td>\n",
       "      <td>26.795849</td>\n",
       "      <td>45.892422</td>\n",
       "      <td>NaN</td>\n",
       "    </tr>\n",
       "    <tr>\n",
       "      <th>min</th>\n",
       "      <td>3847.000000</td>\n",
       "      <td>0.000000</td>\n",
       "      <td>5.200000</td>\n",
       "      <td>0.000000</td>\n",
       "      <td>NaN</td>\n",
       "    </tr>\n",
       "    <tr>\n",
       "      <th>25%</th>\n",
       "      <td>4348.000000</td>\n",
       "      <td>1.000000</td>\n",
       "      <td>14.600000</td>\n",
       "      <td>1.000000</td>\n",
       "      <td>NaN</td>\n",
       "    </tr>\n",
       "    <tr>\n",
       "      <th>50%</th>\n",
       "      <td>4907.000000</td>\n",
       "      <td>1.000000</td>\n",
       "      <td>24.400000</td>\n",
       "      <td>11.000000</td>\n",
       "      <td>NaN</td>\n",
       "    </tr>\n",
       "    <tr>\n",
       "      <th>75%</th>\n",
       "      <td>5805.000000</td>\n",
       "      <td>1.000000</td>\n",
       "      <td>42.000000</td>\n",
       "      <td>34.000000</td>\n",
       "      <td>NaN</td>\n",
       "    </tr>\n",
       "    <tr>\n",
       "      <th>max</th>\n",
       "      <td>7338.000000</td>\n",
       "      <td>1.000000</td>\n",
       "      <td>225.000000</td>\n",
       "      <td>578.000000</td>\n",
       "      <td>NaN</td>\n",
       "    </tr>\n",
       "  </tbody>\n",
       "</table>\n",
       "</div>"
      ],
      "text/plain": [
       "         product_id  onsale_web       price  stock_quantity stock_status\n",
       "count    825.000000  825.000000  825.000000      825.000000          825\n",
       "unique          NaN         NaN         NaN             NaN            2\n",
       "top             NaN         NaN         NaN             NaN      instock\n",
       "freq            NaN         NaN         NaN             NaN          638\n",
       "mean    5162.597576    0.869091   32.415636       26.496970          NaN\n",
       "std      902.644635    0.337506   26.795849       45.892422          NaN\n",
       "min     3847.000000    0.000000    5.200000        0.000000          NaN\n",
       "25%     4348.000000    1.000000   14.600000        1.000000          NaN\n",
       "50%     4907.000000    1.000000   24.400000       11.000000          NaN\n",
       "75%     5805.000000    1.000000   42.000000       34.000000          NaN\n",
       "max     7338.000000    1.000000  225.000000      578.000000          NaN"
      ]
     },
     "execution_count": 6,
     "metadata": {},
     "output_type": "execute_result"
    }
   ],
   "source": [
    "# J'affiche les stats du df produit\n",
    "produit.describe(include='all')"
   ]
  },
  {
   "cell_type": "markdown",
   "id": "66b5260d",
   "metadata": {},
   "source": [
    "### On note qu'il y a 825 valeurs dans la colonne product_id. La colonne product_id est candidate pour être clé primaire, je verife son unicité et s'il y a des manquants."
   ]
  },
  {
   "cell_type": "markdown",
   "id": "49721d6b",
   "metadata": {},
   "source": [
    "### Je vérifie l'unicité"
   ]
  },
  {
   "cell_type": "code",
   "execution_count": 7,
   "id": "a94b2cb4",
   "metadata": {},
   "outputs": [
    {
     "data": {
      "text/plain": [
       "825"
      ]
     },
     "execution_count": 7,
     "metadata": {},
     "output_type": "execute_result"
    }
   ],
   "source": [
    "# Je demande la longueur des valeurs distinctes de ma colonne product_id\n",
    "len(pd.unique(produit['product_id']))"
   ]
  },
  {
   "cell_type": "code",
   "execution_count": 8,
   "id": "d4051ebe",
   "metadata": {},
   "outputs": [
    {
     "data": {
      "text/plain": [
       "product_id        0\n",
       "onsale_web        0\n",
       "price             0\n",
       "stock_quantity    0\n",
       "stock_status      0\n",
       "dtype: int64"
      ]
     },
     "execution_count": 8,
     "metadata": {},
     "output_type": "execute_result"
    }
   ],
   "source": [
    "# je regarde également les valeurs manquantes\n",
    "produit.isnull().sum()"
   ]
  },
  {
   "cell_type": "markdown",
   "id": "eab34add",
   "metadata": {},
   "source": [
    "### Ma variable product_id est a des valeurs unique et ne contient aucune valeur nulle. Elle sera donc clé primaire pour ma jointure."
   ]
  },
  {
   "cell_type": "code",
   "execution_count": 9,
   "id": "e58e2487",
   "metadata": {},
   "outputs": [
    {
     "data": {
      "text/plain": [
       "0"
      ]
     },
     "execution_count": 9,
     "metadata": {},
     "output_type": "execute_result"
    }
   ],
   "source": [
    "# je regarde également si le df contient des doublons\n",
    "produit.duplicated().sum()"
   ]
  },
  {
   "cell_type": "markdown",
   "id": "9eb6b801",
   "metadata": {},
   "source": [
    "### Le dataframe produit est propre.   Ma clé primaire est <u>product_id</u>"
   ]
  },
  {
   "cell_type": "markdown",
   "id": "6e7571b1",
   "metadata": {},
   "source": [
    "### 2) Regardons maintenant le df liaison qui est le fichier qui fait le lient entre l'ERP (produit) et les données du web (web). On veut essentiellement savoir ici si notre fichier contient des doublons, je sais deja qu'il peut y avoir des valeurs manquantes au vu des infos de mission. On vérifie tout cela."
   ]
  },
  {
   "cell_type": "code",
   "execution_count": 10,
   "id": "4ca34010",
   "metadata": {},
   "outputs": [
    {
     "data": {
      "text/html": [
       "<div>\n",
       "<style scoped>\n",
       "    .dataframe tbody tr th:only-of-type {\n",
       "        vertical-align: middle;\n",
       "    }\n",
       "\n",
       "    .dataframe tbody tr th {\n",
       "        vertical-align: top;\n",
       "    }\n",
       "\n",
       "    .dataframe thead th {\n",
       "        text-align: right;\n",
       "    }\n",
       "</style>\n",
       "<table border=\"1\" class=\"dataframe\">\n",
       "  <thead>\n",
       "    <tr style=\"text-align: right;\">\n",
       "      <th></th>\n",
       "      <th>product_id</th>\n",
       "      <th>id_web</th>\n",
       "    </tr>\n",
       "  </thead>\n",
       "  <tbody>\n",
       "    <tr>\n",
       "      <th>0</th>\n",
       "      <td>3847</td>\n",
       "      <td>15298</td>\n",
       "    </tr>\n",
       "    <tr>\n",
       "      <th>1</th>\n",
       "      <td>3849</td>\n",
       "      <td>15296</td>\n",
       "    </tr>\n",
       "    <tr>\n",
       "      <th>2</th>\n",
       "      <td>3850</td>\n",
       "      <td>15300</td>\n",
       "    </tr>\n",
       "    <tr>\n",
       "      <th>3</th>\n",
       "      <td>4032</td>\n",
       "      <td>19814</td>\n",
       "    </tr>\n",
       "    <tr>\n",
       "      <th>4</th>\n",
       "      <td>4039</td>\n",
       "      <td>19815</td>\n",
       "    </tr>\n",
       "  </tbody>\n",
       "</table>\n",
       "</div>"
      ],
      "text/plain": [
       "   product_id id_web\n",
       "0        3847  15298\n",
       "1        3849  15296\n",
       "2        3850  15300\n",
       "3        4032  19814\n",
       "4        4039  19815"
      ]
     },
     "execution_count": 10,
     "metadata": {},
     "output_type": "execute_result"
    }
   ],
   "source": [
    "# J'affiche les premieres lignes de df liaison\n",
    "liaison.head()"
   ]
  },
  {
   "cell_type": "code",
   "execution_count": 11,
   "id": "0864f51e",
   "metadata": {},
   "outputs": [
    {
     "data": {
      "text/plain": [
       "product_id     int64\n",
       "id_web        object\n",
       "dtype: object"
      ]
     },
     "execution_count": 11,
     "metadata": {},
     "output_type": "execute_result"
    }
   ],
   "source": [
    "liaison.dtypes"
   ]
  },
  {
   "cell_type": "code",
   "execution_count": 12,
   "id": "d3f20723",
   "metadata": {},
   "outputs": [],
   "source": [
    "# je change le type de ma colonne procuct_id sans quoi mes stats ne s'affiche pas correctement\n",
    "liaison['product_id'] = liaison['product_id'].astype('object')"
   ]
  },
  {
   "cell_type": "code",
   "execution_count": 13,
   "id": "41571b25",
   "metadata": {},
   "outputs": [
    {
     "data": {
      "text/html": [
       "<div>\n",
       "<style scoped>\n",
       "    .dataframe tbody tr th:only-of-type {\n",
       "        vertical-align: middle;\n",
       "    }\n",
       "\n",
       "    .dataframe tbody tr th {\n",
       "        vertical-align: top;\n",
       "    }\n",
       "\n",
       "    .dataframe thead th {\n",
       "        text-align: right;\n",
       "    }\n",
       "</style>\n",
       "<table border=\"1\" class=\"dataframe\">\n",
       "  <thead>\n",
       "    <tr style=\"text-align: right;\">\n",
       "      <th></th>\n",
       "      <th>product_id</th>\n",
       "      <th>id_web</th>\n",
       "    </tr>\n",
       "  </thead>\n",
       "  <tbody>\n",
       "    <tr>\n",
       "      <th>count</th>\n",
       "      <td>825</td>\n",
       "      <td>734</td>\n",
       "    </tr>\n",
       "    <tr>\n",
       "      <th>unique</th>\n",
       "      <td>825</td>\n",
       "      <td>734</td>\n",
       "    </tr>\n",
       "    <tr>\n",
       "      <th>top</th>\n",
       "      <td>3847</td>\n",
       "      <td>15298</td>\n",
       "    </tr>\n",
       "    <tr>\n",
       "      <th>freq</th>\n",
       "      <td>1</td>\n",
       "      <td>1</td>\n",
       "    </tr>\n",
       "  </tbody>\n",
       "</table>\n",
       "</div>"
      ],
      "text/plain": [
       "        product_id id_web\n",
       "count          825    734\n",
       "unique         825    734\n",
       "top           3847  15298\n",
       "freq             1      1"
      ]
     },
     "execution_count": 13,
     "metadata": {},
     "output_type": "execute_result"
    }
   ],
   "source": [
    "#je regarde les stats\n",
    "liaison.describe(include='all')"
   ]
  },
  {
   "cell_type": "markdown",
   "id": "b80fc985",
   "metadata": {},
   "source": [
    "### On retrouve les 825 produits correspondant au produit de l'ERP, et pour les référence web on en a 734. Si nous faisons 825 - 734 = 91."
   ]
  },
  {
   "cell_type": "markdown",
   "id": "f21d0d68",
   "metadata": {},
   "source": [
    "### On retrouve ces 91 valeurs manquantes ci-dessous."
   ]
  },
  {
   "cell_type": "code",
   "execution_count": 14,
   "id": "32775eb6",
   "metadata": {},
   "outputs": [
    {
     "data": {
      "text/plain": [
       "product_id     0\n",
       "id_web        91\n",
       "dtype: int64"
      ]
     },
     "execution_count": 14,
     "metadata": {},
     "output_type": "execute_result"
    }
   ],
   "source": [
    "# Je check les valeurs manquantes \n",
    "liaison.isnull().sum()"
   ]
  },
  {
   "cell_type": "markdown",
   "id": "2b2f4675",
   "metadata": {},
   "source": [
    "### Ici, il ne faut pas supprimer ces valeurs manquantes car nous avons besoin des valeurs correspondantes dans la colonne product_id pour la jointure."
   ]
  },
  {
   "cell_type": "code",
   "execution_count": 15,
   "id": "d1fdf804",
   "metadata": {},
   "outputs": [
    {
     "data": {
      "text/plain": [
       "0"
      ]
     },
     "execution_count": 15,
     "metadata": {},
     "output_type": "execute_result"
    }
   ],
   "source": [
    "# Je check les doublons\n",
    "liaison.duplicated().sum()"
   ]
  },
  {
   "cell_type": "markdown",
   "id": "9a8e0c81",
   "metadata": {},
   "source": [
    "### il n'y a pas de doublons."
   ]
  },
  {
   "cell_type": "markdown",
   "id": "f9bf9193",
   "metadata": {},
   "source": [
    "### 3) A présent, interessons nous au fichier \"web\" de la boutique en ligne"
   ]
  },
  {
   "cell_type": "code",
   "execution_count": 16,
   "id": "fb282a5d",
   "metadata": {},
   "outputs": [
    {
     "data": {
      "text/html": [
       "<div>\n",
       "<style scoped>\n",
       "    .dataframe tbody tr th:only-of-type {\n",
       "        vertical-align: middle;\n",
       "    }\n",
       "\n",
       "    .dataframe tbody tr th {\n",
       "        vertical-align: top;\n",
       "    }\n",
       "\n",
       "    .dataframe thead th {\n",
       "        text-align: right;\n",
       "    }\n",
       "</style>\n",
       "<table border=\"1\" class=\"dataframe\">\n",
       "  <thead>\n",
       "    <tr style=\"text-align: right;\">\n",
       "      <th></th>\n",
       "      <th>sku</th>\n",
       "      <th>total_sales</th>\n",
       "      <th>post_author</th>\n",
       "      <th>post_date</th>\n",
       "    </tr>\n",
       "  </thead>\n",
       "  <tbody>\n",
       "    <tr>\n",
       "      <th>0</th>\n",
       "      <td>bon-cadeau-25-euros</td>\n",
       "      <td>10</td>\n",
       "      <td>1</td>\n",
       "      <td>01/06/2018 13:53</td>\n",
       "    </tr>\n",
       "    <tr>\n",
       "      <th>1</th>\n",
       "      <td>15298</td>\n",
       "      <td>6</td>\n",
       "      <td>2</td>\n",
       "      <td>08/02/2018 12:58</td>\n",
       "    </tr>\n",
       "    <tr>\n",
       "      <th>2</th>\n",
       "      <td>15296</td>\n",
       "      <td>0</td>\n",
       "      <td>2</td>\n",
       "      <td>08/02/2018 13:49</td>\n",
       "    </tr>\n",
       "    <tr>\n",
       "      <th>3</th>\n",
       "      <td>15300</td>\n",
       "      <td>0</td>\n",
       "      <td>2</td>\n",
       "      <td>08/02/2018 14:08</td>\n",
       "    </tr>\n",
       "    <tr>\n",
       "      <th>4</th>\n",
       "      <td>19814</td>\n",
       "      <td>3</td>\n",
       "      <td>2</td>\n",
       "      <td>09/02/2018 14:01</td>\n",
       "    </tr>\n",
       "  </tbody>\n",
       "</table>\n",
       "</div>"
      ],
      "text/plain": [
       "                   sku  total_sales  post_author         post_date\n",
       "0  bon-cadeau-25-euros           10            1  01/06/2018 13:53\n",
       "1                15298            6            2  08/02/2018 12:58\n",
       "2                15296            0            2  08/02/2018 13:49\n",
       "3                15300            0            2  08/02/2018 14:08\n",
       "4                19814            3            2  09/02/2018 14:01"
      ]
     },
     "execution_count": 16,
     "metadata": {},
     "output_type": "execute_result"
    }
   ],
   "source": [
    "# Visualisation\n",
    "web.head()"
   ]
  },
  {
   "cell_type": "code",
   "execution_count": 17,
   "id": "a9d5e9c8",
   "metadata": {},
   "outputs": [],
   "source": [
    "# je renomme la colonne SKU  en id_web afin qu'elle corresponde pour ma jointure\n",
    "web.rename(columns= {'sku':'id_web'}, inplace=True)"
   ]
  },
  {
   "cell_type": "code",
   "execution_count": 18,
   "id": "304cdced",
   "metadata": {},
   "outputs": [
    {
     "data": {
      "text/html": [
       "<div>\n",
       "<style scoped>\n",
       "    .dataframe tbody tr th:only-of-type {\n",
       "        vertical-align: middle;\n",
       "    }\n",
       "\n",
       "    .dataframe tbody tr th {\n",
       "        vertical-align: top;\n",
       "    }\n",
       "\n",
       "    .dataframe thead th {\n",
       "        text-align: right;\n",
       "    }\n",
       "</style>\n",
       "<table border=\"1\" class=\"dataframe\">\n",
       "  <thead>\n",
       "    <tr style=\"text-align: right;\">\n",
       "      <th></th>\n",
       "      <th>id_web</th>\n",
       "      <th>total_sales</th>\n",
       "      <th>post_author</th>\n",
       "      <th>post_date</th>\n",
       "    </tr>\n",
       "  </thead>\n",
       "  <tbody>\n",
       "    <tr>\n",
       "      <th>count</th>\n",
       "      <td>1427</td>\n",
       "      <td>1429.000000</td>\n",
       "      <td>1429.000000</td>\n",
       "      <td>1429</td>\n",
       "    </tr>\n",
       "    <tr>\n",
       "      <th>unique</th>\n",
       "      <td>714</td>\n",
       "      <td>NaN</td>\n",
       "      <td>NaN</td>\n",
       "      <td>710</td>\n",
       "    </tr>\n",
       "    <tr>\n",
       "      <th>top</th>\n",
       "      <td>bon-cadeau-25-euros</td>\n",
       "      <td>NaN</td>\n",
       "      <td>NaN</td>\n",
       "      <td>18/01/2020 10:54</td>\n",
       "    </tr>\n",
       "    <tr>\n",
       "      <th>freq</th>\n",
       "      <td>2</td>\n",
       "      <td>NaN</td>\n",
       "      <td>NaN</td>\n",
       "      <td>4</td>\n",
       "    </tr>\n",
       "    <tr>\n",
       "      <th>mean</th>\n",
       "      <td>NaN</td>\n",
       "      <td>4.009797</td>\n",
       "      <td>1.998600</td>\n",
       "      <td>NaN</td>\n",
       "    </tr>\n",
       "    <tr>\n",
       "      <th>std</th>\n",
       "      <td>NaN</td>\n",
       "      <td>8.512878</td>\n",
       "      <td>0.037398</td>\n",
       "      <td>NaN</td>\n",
       "    </tr>\n",
       "    <tr>\n",
       "      <th>min</th>\n",
       "      <td>NaN</td>\n",
       "      <td>0.000000</td>\n",
       "      <td>1.000000</td>\n",
       "      <td>NaN</td>\n",
       "    </tr>\n",
       "    <tr>\n",
       "      <th>25%</th>\n",
       "      <td>NaN</td>\n",
       "      <td>0.000000</td>\n",
       "      <td>2.000000</td>\n",
       "      <td>NaN</td>\n",
       "    </tr>\n",
       "    <tr>\n",
       "      <th>50%</th>\n",
       "      <td>NaN</td>\n",
       "      <td>1.000000</td>\n",
       "      <td>2.000000</td>\n",
       "      <td>NaN</td>\n",
       "    </tr>\n",
       "    <tr>\n",
       "      <th>75%</th>\n",
       "      <td>NaN</td>\n",
       "      <td>4.000000</td>\n",
       "      <td>2.000000</td>\n",
       "      <td>NaN</td>\n",
       "    </tr>\n",
       "    <tr>\n",
       "      <th>max</th>\n",
       "      <td>NaN</td>\n",
       "      <td>96.000000</td>\n",
       "      <td>2.000000</td>\n",
       "      <td>NaN</td>\n",
       "    </tr>\n",
       "  </tbody>\n",
       "</table>\n",
       "</div>"
      ],
      "text/plain": [
       "                     id_web  total_sales  post_author         post_date\n",
       "count                  1427  1429.000000  1429.000000              1429\n",
       "unique                  714          NaN          NaN               710\n",
       "top     bon-cadeau-25-euros          NaN          NaN  18/01/2020 10:54\n",
       "freq                      2          NaN          NaN                 4\n",
       "mean                    NaN     4.009797     1.998600               NaN\n",
       "std                     NaN     8.512878     0.037398               NaN\n",
       "min                     NaN     0.000000     1.000000               NaN\n",
       "25%                     NaN     0.000000     2.000000               NaN\n",
       "50%                     NaN     1.000000     2.000000               NaN\n",
       "75%                     NaN     4.000000     2.000000               NaN\n",
       "max                     NaN    96.000000     2.000000               NaN"
      ]
     },
     "execution_count": 18,
     "metadata": {},
     "output_type": "execute_result"
    }
   ],
   "source": [
    "#Les stats\n",
    "web.describe(include=\"all\")"
   ]
  },
  {
   "cell_type": "markdown",
   "id": "4b639481",
   "metadata": {},
   "source": [
    "### Ce fichier compte 1427 valeurs id_web et 714 de ces valeurs sont uniques donc il se peut que le fichier soit en double, on vérifie"
   ]
  },
  {
   "cell_type": "code",
   "execution_count": 19,
   "id": "7e181ad7",
   "metadata": {},
   "outputs": [
    {
     "data": {
      "text/plain": [
       "713"
      ]
     },
     "execution_count": 19,
     "metadata": {},
     "output_type": "execute_result"
    }
   ],
   "source": [
    "# je regarde les doublons\n",
    "web.duplicated().sum()"
   ]
  },
  {
   "cell_type": "code",
   "execution_count": 20,
   "id": "cc0c4b8c",
   "metadata": {},
   "outputs": [
    {
     "data": {
      "text/html": [
       "<div>\n",
       "<style scoped>\n",
       "    .dataframe tbody tr th:only-of-type {\n",
       "        vertical-align: middle;\n",
       "    }\n",
       "\n",
       "    .dataframe tbody tr th {\n",
       "        vertical-align: top;\n",
       "    }\n",
       "\n",
       "    .dataframe thead th {\n",
       "        text-align: right;\n",
       "    }\n",
       "</style>\n",
       "<table border=\"1\" class=\"dataframe\">\n",
       "  <thead>\n",
       "    <tr style=\"text-align: right;\">\n",
       "      <th></th>\n",
       "      <th>id_web</th>\n",
       "      <th>total_sales</th>\n",
       "      <th>post_author</th>\n",
       "      <th>post_date</th>\n",
       "    </tr>\n",
       "  </thead>\n",
       "  <tbody>\n",
       "    <tr>\n",
       "      <th>0</th>\n",
       "      <td>bon-cadeau-25-euros</td>\n",
       "      <td>10</td>\n",
       "      <td>1</td>\n",
       "      <td>01/06/2018 13:53</td>\n",
       "    </tr>\n",
       "    <tr>\n",
       "      <th>1125</th>\n",
       "      <td>bon-cadeau-25-euros</td>\n",
       "      <td>10</td>\n",
       "      <td>1</td>\n",
       "      <td>01/06/2018 13:53</td>\n",
       "    </tr>\n",
       "    <tr>\n",
       "      <th>1117</th>\n",
       "      <td>9937</td>\n",
       "      <td>4</td>\n",
       "      <td>2</td>\n",
       "      <td>17/05/2018 12:55</td>\n",
       "    </tr>\n",
       "    <tr>\n",
       "      <th>403</th>\n",
       "      <td>9937</td>\n",
       "      <td>4</td>\n",
       "      <td>2</td>\n",
       "      <td>17/05/2018 12:55</td>\n",
       "    </tr>\n",
       "    <tr>\n",
       "      <th>213</th>\n",
       "      <td>9636</td>\n",
       "      <td>0</td>\n",
       "      <td>2</td>\n",
       "      <td>22/03/2018 10:44</td>\n",
       "    </tr>\n",
       "    <tr>\n",
       "      <th>927</th>\n",
       "      <td>9636</td>\n",
       "      <td>0</td>\n",
       "      <td>2</td>\n",
       "      <td>22/03/2018 10:44</td>\n",
       "    </tr>\n",
       "    <tr>\n",
       "      <th>918</th>\n",
       "      <td>9562</td>\n",
       "      <td>0</td>\n",
       "      <td>2</td>\n",
       "      <td>02/03/2018 10:57</td>\n",
       "    </tr>\n",
       "    <tr>\n",
       "      <th>204</th>\n",
       "      <td>9562</td>\n",
       "      <td>0</td>\n",
       "      <td>2</td>\n",
       "      <td>02/03/2018 10:57</td>\n",
       "    </tr>\n",
       "    <tr>\n",
       "      <th>1220</th>\n",
       "      <td>8463</td>\n",
       "      <td>0</td>\n",
       "      <td>2</td>\n",
       "      <td>26/11/2018 11:25</td>\n",
       "    </tr>\n",
       "    <tr>\n",
       "      <th>506</th>\n",
       "      <td>8463</td>\n",
       "      <td>0</td>\n",
       "      <td>2</td>\n",
       "      <td>26/11/2018 11:25</td>\n",
       "    </tr>\n",
       "    <tr>\n",
       "      <th>1235</th>\n",
       "      <td>8365</td>\n",
       "      <td>0</td>\n",
       "      <td>2</td>\n",
       "      <td>29/01/2019 15:38</td>\n",
       "    </tr>\n",
       "    <tr>\n",
       "      <th>521</th>\n",
       "      <td>8365</td>\n",
       "      <td>0</td>\n",
       "      <td>2</td>\n",
       "      <td>29/01/2019 15:38</td>\n",
       "    </tr>\n",
       "    <tr>\n",
       "      <th>1041</th>\n",
       "      <td>8344</td>\n",
       "      <td>18</td>\n",
       "      <td>2</td>\n",
       "      <td>18/04/2018 20:28</td>\n",
       "    </tr>\n",
       "    <tr>\n",
       "      <th>327</th>\n",
       "      <td>8344</td>\n",
       "      <td>18</td>\n",
       "      <td>2</td>\n",
       "      <td>18/04/2018 20:28</td>\n",
       "    </tr>\n",
       "    <tr>\n",
       "      <th>1415</th>\n",
       "      <td>8193</td>\n",
       "      <td>3</td>\n",
       "      <td>2</td>\n",
       "      <td>04/03/2020 13:54</td>\n",
       "    </tr>\n",
       "    <tr>\n",
       "      <th>701</th>\n",
       "      <td>8193</td>\n",
       "      <td>3</td>\n",
       "      <td>2</td>\n",
       "      <td>04/03/2020 13:54</td>\n",
       "    </tr>\n",
       "    <tr>\n",
       "      <th>253</th>\n",
       "      <td>812</td>\n",
       "      <td>0</td>\n",
       "      <td>2</td>\n",
       "      <td>14/04/2018 11:35</td>\n",
       "    </tr>\n",
       "    <tr>\n",
       "      <th>967</th>\n",
       "      <td>812</td>\n",
       "      <td>0</td>\n",
       "      <td>2</td>\n",
       "      <td>14/04/2018 11:35</td>\n",
       "    </tr>\n",
       "    <tr>\n",
       "      <th>968</th>\n",
       "      <td>807</td>\n",
       "      <td>0</td>\n",
       "      <td>2</td>\n",
       "      <td>14/04/2018 11:43</td>\n",
       "    </tr>\n",
       "    <tr>\n",
       "      <th>254</th>\n",
       "      <td>807</td>\n",
       "      <td>0</td>\n",
       "      <td>2</td>\n",
       "      <td>14/04/2018 11:43</td>\n",
       "    </tr>\n",
       "    <tr>\n",
       "      <th>969</th>\n",
       "      <td>805</td>\n",
       "      <td>4</td>\n",
       "      <td>2</td>\n",
       "      <td>14/04/2018 11:45</td>\n",
       "    </tr>\n",
       "    <tr>\n",
       "      <th>255</th>\n",
       "      <td>805</td>\n",
       "      <td>4</td>\n",
       "      <td>2</td>\n",
       "      <td>14/04/2018 11:45</td>\n",
       "    </tr>\n",
       "    <tr>\n",
       "      <th>261</th>\n",
       "      <td>804</td>\n",
       "      <td>3</td>\n",
       "      <td>2</td>\n",
       "      <td>14/04/2018 11:59</td>\n",
       "    </tr>\n",
       "    <tr>\n",
       "      <th>975</th>\n",
       "      <td>804</td>\n",
       "      <td>3</td>\n",
       "      <td>2</td>\n",
       "      <td>14/04/2018 11:59</td>\n",
       "    </tr>\n",
       "    <tr>\n",
       "      <th>970</th>\n",
       "      <td>802</td>\n",
       "      <td>0</td>\n",
       "      <td>2</td>\n",
       "      <td>14/04/2018 11:48</td>\n",
       "    </tr>\n",
       "    <tr>\n",
       "      <th>256</th>\n",
       "      <td>802</td>\n",
       "      <td>0</td>\n",
       "      <td>2</td>\n",
       "      <td>14/04/2018 11:48</td>\n",
       "    </tr>\n",
       "    <tr>\n",
       "      <th>263</th>\n",
       "      <td>798</td>\n",
       "      <td>0</td>\n",
       "      <td>2</td>\n",
       "      <td>14/04/2018 12:05</td>\n",
       "    </tr>\n",
       "    <tr>\n",
       "      <th>977</th>\n",
       "      <td>798</td>\n",
       "      <td>0</td>\n",
       "      <td>2</td>\n",
       "      <td>14/04/2018 12:05</td>\n",
       "    </tr>\n",
       "    <tr>\n",
       "      <th>972</th>\n",
       "      <td>793</td>\n",
       "      <td>4</td>\n",
       "      <td>2</td>\n",
       "      <td>14/04/2018 11:52</td>\n",
       "    </tr>\n",
       "    <tr>\n",
       "      <th>258</th>\n",
       "      <td>793</td>\n",
       "      <td>4</td>\n",
       "      <td>2</td>\n",
       "      <td>14/04/2018 11:52</td>\n",
       "    </tr>\n",
       "  </tbody>\n",
       "</table>\n",
       "</div>"
      ],
      "text/plain": [
       "                   id_web  total_sales  post_author         post_date\n",
       "0     bon-cadeau-25-euros           10            1  01/06/2018 13:53\n",
       "1125  bon-cadeau-25-euros           10            1  01/06/2018 13:53\n",
       "1117                 9937            4            2  17/05/2018 12:55\n",
       "403                  9937            4            2  17/05/2018 12:55\n",
       "213                  9636            0            2  22/03/2018 10:44\n",
       "927                  9636            0            2  22/03/2018 10:44\n",
       "918                  9562            0            2  02/03/2018 10:57\n",
       "204                  9562            0            2  02/03/2018 10:57\n",
       "1220                 8463            0            2  26/11/2018 11:25\n",
       "506                  8463            0            2  26/11/2018 11:25\n",
       "1235                 8365            0            2  29/01/2019 15:38\n",
       "521                  8365            0            2  29/01/2019 15:38\n",
       "1041                 8344           18            2  18/04/2018 20:28\n",
       "327                  8344           18            2  18/04/2018 20:28\n",
       "1415                 8193            3            2  04/03/2020 13:54\n",
       "701                  8193            3            2  04/03/2020 13:54\n",
       "253                   812            0            2  14/04/2018 11:35\n",
       "967                   812            0            2  14/04/2018 11:35\n",
       "968                   807            0            2  14/04/2018 11:43\n",
       "254                   807            0            2  14/04/2018 11:43\n",
       "969                   805            4            2  14/04/2018 11:45\n",
       "255                   805            4            2  14/04/2018 11:45\n",
       "261                   804            3            2  14/04/2018 11:59\n",
       "975                   804            3            2  14/04/2018 11:59\n",
       "970                   802            0            2  14/04/2018 11:48\n",
       "256                   802            0            2  14/04/2018 11:48\n",
       "263                   798            0            2  14/04/2018 12:05\n",
       "977                   798            0            2  14/04/2018 12:05\n",
       "972                   793            4            2  14/04/2018 11:52\n",
       "258                   793            4            2  14/04/2018 11:52"
      ]
     },
     "execution_count": 20,
     "metadata": {},
     "output_type": "execute_result"
    }
   ],
   "source": [
    "#je ragarde mes doublons que je tri pour voir les doublons l'un en dessous de l'autre\n",
    "web[web.duplicated(keep=False)].sort_values('id_web', ascending=False).head(30)"
   ]
  },
  {
   "cell_type": "markdown",
   "id": "f3d79301",
   "metadata": {},
   "source": [
    "### On constate bien que les id_web sont en doubles, il faut les supprimer"
   ]
  },
  {
   "cell_type": "code",
   "execution_count": 21,
   "id": "f9d25c1b",
   "metadata": {},
   "outputs": [
    {
     "data": {
      "text/plain": [
       "0"
      ]
     },
     "execution_count": 21,
     "metadata": {},
     "output_type": "execute_result"
    }
   ],
   "source": [
    "#je supprime ces doublons\n",
    "web.drop_duplicates(inplace=True)\n",
    "#je vérifie\n",
    "web.duplicated().sum()"
   ]
  },
  {
   "cell_type": "markdown",
   "id": "883ab6d0",
   "metadata": {},
   "source": [
    "### Maintenant, vérifions l'unicité de ma colonne id_web qui sera clé primaire "
   ]
  },
  {
   "cell_type": "code",
   "execution_count": 22,
   "id": "9debb8cc",
   "metadata": {},
   "outputs": [
    {
     "data": {
      "text/html": [
       "<div>\n",
       "<style scoped>\n",
       "    .dataframe tbody tr th:only-of-type {\n",
       "        vertical-align: middle;\n",
       "    }\n",
       "\n",
       "    .dataframe tbody tr th {\n",
       "        vertical-align: top;\n",
       "    }\n",
       "\n",
       "    .dataframe thead th {\n",
       "        text-align: right;\n",
       "    }\n",
       "</style>\n",
       "<table border=\"1\" class=\"dataframe\">\n",
       "  <thead>\n",
       "    <tr style=\"text-align: right;\">\n",
       "      <th></th>\n",
       "      <th>id_web</th>\n",
       "      <th>total_sales</th>\n",
       "      <th>post_author</th>\n",
       "      <th>post_date</th>\n",
       "    </tr>\n",
       "  </thead>\n",
       "  <tbody>\n",
       "    <tr>\n",
       "      <th>count</th>\n",
       "      <td>714</td>\n",
       "      <td>716.000000</td>\n",
       "      <td>716.000000</td>\n",
       "      <td>716</td>\n",
       "    </tr>\n",
       "    <tr>\n",
       "      <th>unique</th>\n",
       "      <td>714</td>\n",
       "      <td>NaN</td>\n",
       "      <td>NaN</td>\n",
       "      <td>710</td>\n",
       "    </tr>\n",
       "    <tr>\n",
       "      <th>top</th>\n",
       "      <td>bon-cadeau-25-euros</td>\n",
       "      <td>NaN</td>\n",
       "      <td>NaN</td>\n",
       "      <td>18/01/2020 10:54</td>\n",
       "    </tr>\n",
       "    <tr>\n",
       "      <th>freq</th>\n",
       "      <td>1</td>\n",
       "      <td>NaN</td>\n",
       "      <td>NaN</td>\n",
       "      <td>2</td>\n",
       "    </tr>\n",
       "    <tr>\n",
       "      <th>mean</th>\n",
       "      <td>NaN</td>\n",
       "      <td>4.001397</td>\n",
       "      <td>1.998603</td>\n",
       "      <td>NaN</td>\n",
       "    </tr>\n",
       "    <tr>\n",
       "      <th>std</th>\n",
       "      <td>NaN</td>\n",
       "      <td>8.508901</td>\n",
       "      <td>0.037372</td>\n",
       "      <td>NaN</td>\n",
       "    </tr>\n",
       "    <tr>\n",
       "      <th>min</th>\n",
       "      <td>NaN</td>\n",
       "      <td>0.000000</td>\n",
       "      <td>1.000000</td>\n",
       "      <td>NaN</td>\n",
       "    </tr>\n",
       "    <tr>\n",
       "      <th>25%</th>\n",
       "      <td>NaN</td>\n",
       "      <td>0.000000</td>\n",
       "      <td>2.000000</td>\n",
       "      <td>NaN</td>\n",
       "    </tr>\n",
       "    <tr>\n",
       "      <th>50%</th>\n",
       "      <td>NaN</td>\n",
       "      <td>1.000000</td>\n",
       "      <td>2.000000</td>\n",
       "      <td>NaN</td>\n",
       "    </tr>\n",
       "    <tr>\n",
       "      <th>75%</th>\n",
       "      <td>NaN</td>\n",
       "      <td>4.000000</td>\n",
       "      <td>2.000000</td>\n",
       "      <td>NaN</td>\n",
       "    </tr>\n",
       "    <tr>\n",
       "      <th>max</th>\n",
       "      <td>NaN</td>\n",
       "      <td>96.000000</td>\n",
       "      <td>2.000000</td>\n",
       "      <td>NaN</td>\n",
       "    </tr>\n",
       "  </tbody>\n",
       "</table>\n",
       "</div>"
      ],
      "text/plain": [
       "                     id_web  total_sales  post_author         post_date\n",
       "count                   714   716.000000   716.000000               716\n",
       "unique                  714          NaN          NaN               710\n",
       "top     bon-cadeau-25-euros          NaN          NaN  18/01/2020 10:54\n",
       "freq                      1          NaN          NaN                 2\n",
       "mean                    NaN     4.001397     1.998603               NaN\n",
       "std                     NaN     8.508901     0.037372               NaN\n",
       "min                     NaN     0.000000     1.000000               NaN\n",
       "25%                     NaN     0.000000     2.000000               NaN\n",
       "50%                     NaN     1.000000     2.000000               NaN\n",
       "75%                     NaN     4.000000     2.000000               NaN\n",
       "max                     NaN    96.000000     2.000000               NaN"
      ]
     },
     "execution_count": 22,
     "metadata": {},
     "output_type": "execute_result"
    }
   ],
   "source": [
    "# Le stats\n",
    "web.describe(include='all')"
   ]
  },
  {
   "cell_type": "markdown",
   "id": "5ec34445",
   "metadata": {},
   "source": [
    "### on retrouve bien 714 valeurs uniques"
   ]
  },
  {
   "cell_type": "code",
   "execution_count": 23,
   "id": "d71cfe27",
   "metadata": {},
   "outputs": [
    {
     "data": {
      "text/plain": [
       "id_web         2\n",
       "total_sales    0\n",
       "post_author    0\n",
       "post_date      0\n",
       "dtype: int64"
      ]
     },
     "execution_count": 23,
     "metadata": {},
     "output_type": "execute_result"
    }
   ],
   "source": [
    "# je regarde les valeurs manquantes\n",
    "web.isnull().sum()"
   ]
  },
  {
   "cell_type": "code",
   "execution_count": 24,
   "id": "59847b48",
   "metadata": {},
   "outputs": [
    {
     "data": {
      "text/html": [
       "<div>\n",
       "<style scoped>\n",
       "    .dataframe tbody tr th:only-of-type {\n",
       "        vertical-align: middle;\n",
       "    }\n",
       "\n",
       "    .dataframe tbody tr th {\n",
       "        vertical-align: top;\n",
       "    }\n",
       "\n",
       "    .dataframe thead th {\n",
       "        text-align: right;\n",
       "    }\n",
       "</style>\n",
       "<table border=\"1\" class=\"dataframe\">\n",
       "  <thead>\n",
       "    <tr style=\"text-align: right;\">\n",
       "      <th></th>\n",
       "      <th>id_web</th>\n",
       "      <th>total_sales</th>\n",
       "      <th>post_author</th>\n",
       "      <th>post_date</th>\n",
       "    </tr>\n",
       "  </thead>\n",
       "  <tbody>\n",
       "    <tr>\n",
       "      <th>447</th>\n",
       "      <td>NaN</td>\n",
       "      <td>0</td>\n",
       "      <td>2</td>\n",
       "      <td>31/07/2018 12:07</td>\n",
       "    </tr>\n",
       "    <tr>\n",
       "      <th>448</th>\n",
       "      <td>NaN</td>\n",
       "      <td>0</td>\n",
       "      <td>2</td>\n",
       "      <td>08/08/2018 11:23</td>\n",
       "    </tr>\n",
       "  </tbody>\n",
       "</table>\n",
       "</div>"
      ],
      "text/plain": [
       "    id_web  total_sales  post_author         post_date\n",
       "447    NaN            0            2  31/07/2018 12:07\n",
       "448    NaN            0            2  08/08/2018 11:23"
      ]
     },
     "execution_count": 24,
     "metadata": {},
     "output_type": "execute_result"
    }
   ],
   "source": [
    "manquant = web['id_web'].isnull()\n",
    "web[manquant]"
   ]
  },
  {
   "cell_type": "markdown",
   "id": "bcbb57a9",
   "metadata": {},
   "source": [
    "### Ici, ces 2 valeurs manquantes n'auront donc pas de correspondance avec mon fichier de liaison donc elle sont inutile, je peux les supprimer"
   ]
  },
  {
   "cell_type": "code",
   "execution_count": 25,
   "id": "e8404382",
   "metadata": {},
   "outputs": [
    {
     "data": {
      "text/plain": [
       "id_web         0\n",
       "total_sales    0\n",
       "post_author    0\n",
       "post_date      0\n",
       "dtype: int64"
      ]
     },
     "execution_count": 25,
     "metadata": {},
     "output_type": "execute_result"
    }
   ],
   "source": [
    "# je supprime ces 2 lignes\n",
    "web.dropna(inplace=True)\n",
    "# je check\n",
    "web.isnull().sum()"
   ]
  },
  {
   "cell_type": "markdown",
   "id": "859b5d6f",
   "metadata": {},
   "source": [
    "### Voila !! Après ce nettoyage des dataframes distinct, on peut faire nos jointures."
   ]
  },
  {
   "cell_type": "markdown",
   "id": "a3593c93",
   "metadata": {},
   "source": [
    "# Jointures"
   ]
  },
  {
   "cell_type": "code",
   "execution_count": 26,
   "id": "d1e0690b",
   "metadata": {},
   "outputs": [],
   "source": [
    "# je joins mon df produit avec le df de liaison\n",
    "df1 = produit.merge(liaison) \n",
    "#la jointure se fait automatiquement sur la colonne product_id et en 'inner' par defaut"
   ]
  },
  {
   "cell_type": "markdown",
   "id": "ffc246a2",
   "metadata": {},
   "source": [
    "### Comme nous l'avons vu plus haut, le df produit et le df liasion contiennent tous deux 825 valeurs unique donc on s'attend a ce que notre dataframe joint contienne 825 valeurs"
   ]
  },
  {
   "cell_type": "code",
   "execution_count": 27,
   "id": "e219f825",
   "metadata": {},
   "outputs": [
    {
     "data": {
      "text/html": [
       "<div>\n",
       "<style scoped>\n",
       "    .dataframe tbody tr th:only-of-type {\n",
       "        vertical-align: middle;\n",
       "    }\n",
       "\n",
       "    .dataframe tbody tr th {\n",
       "        vertical-align: top;\n",
       "    }\n",
       "\n",
       "    .dataframe thead th {\n",
       "        text-align: right;\n",
       "    }\n",
       "</style>\n",
       "<table border=\"1\" class=\"dataframe\">\n",
       "  <thead>\n",
       "    <tr style=\"text-align: right;\">\n",
       "      <th></th>\n",
       "      <th>product_id</th>\n",
       "      <th>onsale_web</th>\n",
       "      <th>price</th>\n",
       "      <th>stock_quantity</th>\n",
       "      <th>stock_status</th>\n",
       "      <th>id_web</th>\n",
       "    </tr>\n",
       "  </thead>\n",
       "  <tbody>\n",
       "    <tr>\n",
       "      <th>0</th>\n",
       "      <td>3847</td>\n",
       "      <td>1</td>\n",
       "      <td>24.2</td>\n",
       "      <td>0</td>\n",
       "      <td>outofstock</td>\n",
       "      <td>15298</td>\n",
       "    </tr>\n",
       "    <tr>\n",
       "      <th>1</th>\n",
       "      <td>3849</td>\n",
       "      <td>1</td>\n",
       "      <td>34.3</td>\n",
       "      <td>0</td>\n",
       "      <td>outofstock</td>\n",
       "      <td>15296</td>\n",
       "    </tr>\n",
       "    <tr>\n",
       "      <th>2</th>\n",
       "      <td>3850</td>\n",
       "      <td>1</td>\n",
       "      <td>20.8</td>\n",
       "      <td>0</td>\n",
       "      <td>outofstock</td>\n",
       "      <td>15300</td>\n",
       "    </tr>\n",
       "    <tr>\n",
       "      <th>3</th>\n",
       "      <td>4032</td>\n",
       "      <td>1</td>\n",
       "      <td>14.1</td>\n",
       "      <td>0</td>\n",
       "      <td>outofstock</td>\n",
       "      <td>19814</td>\n",
       "    </tr>\n",
       "    <tr>\n",
       "      <th>4</th>\n",
       "      <td>4039</td>\n",
       "      <td>1</td>\n",
       "      <td>46.0</td>\n",
       "      <td>0</td>\n",
       "      <td>outofstock</td>\n",
       "      <td>19815</td>\n",
       "    </tr>\n",
       "    <tr>\n",
       "      <th>...</th>\n",
       "      <td>...</td>\n",
       "      <td>...</td>\n",
       "      <td>...</td>\n",
       "      <td>...</td>\n",
       "      <td>...</td>\n",
       "      <td>...</td>\n",
       "    </tr>\n",
       "    <tr>\n",
       "      <th>820</th>\n",
       "      <td>7203</td>\n",
       "      <td>0</td>\n",
       "      <td>45.0</td>\n",
       "      <td>30</td>\n",
       "      <td>instock</td>\n",
       "      <td>NaN</td>\n",
       "    </tr>\n",
       "    <tr>\n",
       "      <th>821</th>\n",
       "      <td>7204</td>\n",
       "      <td>0</td>\n",
       "      <td>45.0</td>\n",
       "      <td>9</td>\n",
       "      <td>instock</td>\n",
       "      <td>NaN</td>\n",
       "    </tr>\n",
       "    <tr>\n",
       "      <th>822</th>\n",
       "      <td>7247</td>\n",
       "      <td>1</td>\n",
       "      <td>54.8</td>\n",
       "      <td>23</td>\n",
       "      <td>instock</td>\n",
       "      <td>13127-1</td>\n",
       "    </tr>\n",
       "    <tr>\n",
       "      <th>823</th>\n",
       "      <td>7329</td>\n",
       "      <td>0</td>\n",
       "      <td>26.5</td>\n",
       "      <td>14</td>\n",
       "      <td>instock</td>\n",
       "      <td>14680-1</td>\n",
       "    </tr>\n",
       "    <tr>\n",
       "      <th>824</th>\n",
       "      <td>7338</td>\n",
       "      <td>1</td>\n",
       "      <td>16.3</td>\n",
       "      <td>45</td>\n",
       "      <td>instock</td>\n",
       "      <td>16230</td>\n",
       "    </tr>\n",
       "  </tbody>\n",
       "</table>\n",
       "<p>825 rows × 6 columns</p>\n",
       "</div>"
      ],
      "text/plain": [
       "    product_id  onsale_web  price  stock_quantity stock_status   id_web\n",
       "0         3847           1   24.2               0   outofstock    15298\n",
       "1         3849           1   34.3               0   outofstock    15296\n",
       "2         3850           1   20.8               0   outofstock    15300\n",
       "3         4032           1   14.1               0   outofstock    19814\n",
       "4         4039           1   46.0               0   outofstock    19815\n",
       "..         ...         ...    ...             ...          ...      ...\n",
       "820       7203           0   45.0              30      instock      NaN\n",
       "821       7204           0   45.0               9      instock      NaN\n",
       "822       7247           1   54.8              23      instock  13127-1\n",
       "823       7329           0   26.5              14      instock  14680-1\n",
       "824       7338           1   16.3              45      instock    16230\n",
       "\n",
       "[825 rows x 6 columns]"
      ]
     },
     "execution_count": 27,
     "metadata": {},
     "output_type": "execute_result"
    }
   ],
   "source": [
    "# je vérifie\n",
    "df1"
   ]
  },
  {
   "cell_type": "markdown",
   "id": "b76c4f00",
   "metadata": {},
   "source": [
    "### Maintenant, je joint mon df1 avec mon df web. On sait que le df web contient 714 valeurs donc en faisant une jointure 'inner' (intersection) avec mon df1 contenant 825 valeurs; le resultat sera un dataframe de 714 valeurs, la jointure élimine les manquants car aucune correspondance "
   ]
  },
  {
   "cell_type": "code",
   "execution_count": 28,
   "id": "e7321ff8",
   "metadata": {},
   "outputs": [],
   "source": [
    "df2 = df1.merge(web)\n",
    "# Cette fois, la jonture se fait automatiquement sur la colonne id_web "
   ]
  },
  {
   "cell_type": "code",
   "execution_count": 29,
   "id": "db3fe762",
   "metadata": {},
   "outputs": [
    {
     "data": {
      "text/html": [
       "<div>\n",
       "<style scoped>\n",
       "    .dataframe tbody tr th:only-of-type {\n",
       "        vertical-align: middle;\n",
       "    }\n",
       "\n",
       "    .dataframe tbody tr th {\n",
       "        vertical-align: top;\n",
       "    }\n",
       "\n",
       "    .dataframe thead th {\n",
       "        text-align: right;\n",
       "    }\n",
       "</style>\n",
       "<table border=\"1\" class=\"dataframe\">\n",
       "  <thead>\n",
       "    <tr style=\"text-align: right;\">\n",
       "      <th></th>\n",
       "      <th>product_id</th>\n",
       "      <th>onsale_web</th>\n",
       "      <th>price</th>\n",
       "      <th>stock_quantity</th>\n",
       "      <th>stock_status</th>\n",
       "      <th>id_web</th>\n",
       "      <th>total_sales</th>\n",
       "      <th>post_author</th>\n",
       "      <th>post_date</th>\n",
       "    </tr>\n",
       "  </thead>\n",
       "  <tbody>\n",
       "    <tr>\n",
       "      <th>0</th>\n",
       "      <td>3847</td>\n",
       "      <td>1</td>\n",
       "      <td>24.2</td>\n",
       "      <td>0</td>\n",
       "      <td>outofstock</td>\n",
       "      <td>15298</td>\n",
       "      <td>6</td>\n",
       "      <td>2</td>\n",
       "      <td>08/02/2018 12:58</td>\n",
       "    </tr>\n",
       "    <tr>\n",
       "      <th>1</th>\n",
       "      <td>3849</td>\n",
       "      <td>1</td>\n",
       "      <td>34.3</td>\n",
       "      <td>0</td>\n",
       "      <td>outofstock</td>\n",
       "      <td>15296</td>\n",
       "      <td>0</td>\n",
       "      <td>2</td>\n",
       "      <td>08/02/2018 13:49</td>\n",
       "    </tr>\n",
       "    <tr>\n",
       "      <th>2</th>\n",
       "      <td>3850</td>\n",
       "      <td>1</td>\n",
       "      <td>20.8</td>\n",
       "      <td>0</td>\n",
       "      <td>outofstock</td>\n",
       "      <td>15300</td>\n",
       "      <td>0</td>\n",
       "      <td>2</td>\n",
       "      <td>08/02/2018 14:08</td>\n",
       "    </tr>\n",
       "    <tr>\n",
       "      <th>3</th>\n",
       "      <td>4032</td>\n",
       "      <td>1</td>\n",
       "      <td>14.1</td>\n",
       "      <td>0</td>\n",
       "      <td>outofstock</td>\n",
       "      <td>19814</td>\n",
       "      <td>3</td>\n",
       "      <td>2</td>\n",
       "      <td>09/02/2018 14:01</td>\n",
       "    </tr>\n",
       "    <tr>\n",
       "      <th>4</th>\n",
       "      <td>4039</td>\n",
       "      <td>1</td>\n",
       "      <td>46.0</td>\n",
       "      <td>0</td>\n",
       "      <td>outofstock</td>\n",
       "      <td>19815</td>\n",
       "      <td>0</td>\n",
       "      <td>2</td>\n",
       "      <td>12/02/2018 09:04</td>\n",
       "    </tr>\n",
       "    <tr>\n",
       "      <th>...</th>\n",
       "      <td>...</td>\n",
       "      <td>...</td>\n",
       "      <td>...</td>\n",
       "      <td>...</td>\n",
       "      <td>...</td>\n",
       "      <td>...</td>\n",
       "      <td>...</td>\n",
       "      <td>...</td>\n",
       "      <td>...</td>\n",
       "    </tr>\n",
       "    <tr>\n",
       "      <th>709</th>\n",
       "      <td>6930</td>\n",
       "      <td>1</td>\n",
       "      <td>8.4</td>\n",
       "      <td>83</td>\n",
       "      <td>instock</td>\n",
       "      <td>16135</td>\n",
       "      <td>5</td>\n",
       "      <td>2</td>\n",
       "      <td>25/04/2020 13:22</td>\n",
       "    </tr>\n",
       "    <tr>\n",
       "      <th>710</th>\n",
       "      <td>7023</td>\n",
       "      <td>1</td>\n",
       "      <td>27.5</td>\n",
       "      <td>15</td>\n",
       "      <td>instock</td>\n",
       "      <td>15891</td>\n",
       "      <td>0</td>\n",
       "      <td>2</td>\n",
       "      <td>02/05/2020 14:53</td>\n",
       "    </tr>\n",
       "    <tr>\n",
       "      <th>711</th>\n",
       "      <td>7025</td>\n",
       "      <td>1</td>\n",
       "      <td>69.0</td>\n",
       "      <td>2</td>\n",
       "      <td>instock</td>\n",
       "      <td>15887</td>\n",
       "      <td>0</td>\n",
       "      <td>2</td>\n",
       "      <td>02/05/2020 15:00</td>\n",
       "    </tr>\n",
       "    <tr>\n",
       "      <th>712</th>\n",
       "      <td>7247</td>\n",
       "      <td>1</td>\n",
       "      <td>54.8</td>\n",
       "      <td>23</td>\n",
       "      <td>instock</td>\n",
       "      <td>13127-1</td>\n",
       "      <td>0</td>\n",
       "      <td>2</td>\n",
       "      <td>09/06/2020 15:42</td>\n",
       "    </tr>\n",
       "    <tr>\n",
       "      <th>713</th>\n",
       "      <td>7338</td>\n",
       "      <td>1</td>\n",
       "      <td>16.3</td>\n",
       "      <td>45</td>\n",
       "      <td>instock</td>\n",
       "      <td>16230</td>\n",
       "      <td>0</td>\n",
       "      <td>2</td>\n",
       "      <td>20/07/2020 11:00</td>\n",
       "    </tr>\n",
       "  </tbody>\n",
       "</table>\n",
       "<p>714 rows × 9 columns</p>\n",
       "</div>"
      ],
      "text/plain": [
       "    product_id  onsale_web  price  stock_quantity stock_status   id_web  \\\n",
       "0         3847           1   24.2               0   outofstock    15298   \n",
       "1         3849           1   34.3               0   outofstock    15296   \n",
       "2         3850           1   20.8               0   outofstock    15300   \n",
       "3         4032           1   14.1               0   outofstock    19814   \n",
       "4         4039           1   46.0               0   outofstock    19815   \n",
       "..         ...         ...    ...             ...          ...      ...   \n",
       "709       6930           1    8.4              83      instock    16135   \n",
       "710       7023           1   27.5              15      instock    15891   \n",
       "711       7025           1   69.0               2      instock    15887   \n",
       "712       7247           1   54.8              23      instock  13127-1   \n",
       "713       7338           1   16.3              45      instock    16230   \n",
       "\n",
       "     total_sales  post_author         post_date  \n",
       "0              6            2  08/02/2018 12:58  \n",
       "1              0            2  08/02/2018 13:49  \n",
       "2              0            2  08/02/2018 14:08  \n",
       "3              3            2  09/02/2018 14:01  \n",
       "4              0            2  12/02/2018 09:04  \n",
       "..           ...          ...               ...  \n",
       "709            5            2  25/04/2020 13:22  \n",
       "710            0            2  02/05/2020 14:53  \n",
       "711            0            2  02/05/2020 15:00  \n",
       "712            0            2  09/06/2020 15:42  \n",
       "713            0            2  20/07/2020 11:00  \n",
       "\n",
       "[714 rows x 9 columns]"
      ]
     },
     "execution_count": 29,
     "metadata": {},
     "output_type": "execute_result"
    }
   ],
   "source": [
    "df2"
   ]
  },
  {
   "cell_type": "code",
   "execution_count": 30,
   "id": "8dd75f04",
   "metadata": {},
   "outputs": [
    {
     "data": {
      "text/plain": [
       "product_id        0\n",
       "onsale_web        0\n",
       "price             0\n",
       "stock_quantity    0\n",
       "stock_status      0\n",
       "id_web            0\n",
       "total_sales       0\n",
       "post_author       0\n",
       "post_date         0\n",
       "dtype: int64"
      ]
     },
     "execution_count": 30,
     "metadata": {},
     "output_type": "execute_result"
    }
   ],
   "source": [
    "df2.isnull().sum()"
   ]
  },
  {
   "cell_type": "code",
   "execution_count": 31,
   "id": "a54941ed",
   "metadata": {},
   "outputs": [
    {
     "data": {
      "text/plain": [
       "0"
      ]
     },
     "execution_count": 31,
     "metadata": {},
     "output_type": "execute_result"
    }
   ],
   "source": [
    "df2.duplicated().sum()"
   ]
  },
  {
   "cell_type": "markdown",
   "id": "df14aa7a",
   "metadata": {},
   "source": [
    "# Mon dataframe est prêt pour l'analyse"
   ]
  },
  {
   "cell_type": "markdown",
   "id": "f09aed00",
   "metadata": {},
   "source": [
    "### 1 ) Calcul du chiffre d'affaires par produit."
   ]
  },
  {
   "cell_type": "code",
   "execution_count": 32,
   "id": "1abf09f6",
   "metadata": {},
   "outputs": [
    {
     "data": {
      "text/html": [
       "<div>\n",
       "<style scoped>\n",
       "    .dataframe tbody tr th:only-of-type {\n",
       "        vertical-align: middle;\n",
       "    }\n",
       "\n",
       "    .dataframe tbody tr th {\n",
       "        vertical-align: top;\n",
       "    }\n",
       "\n",
       "    .dataframe thead th {\n",
       "        text-align: right;\n",
       "    }\n",
       "</style>\n",
       "<table border=\"1\" class=\"dataframe\">\n",
       "  <thead>\n",
       "    <tr style=\"text-align: right;\">\n",
       "      <th></th>\n",
       "      <th>product_id</th>\n",
       "      <th>onsale_web</th>\n",
       "      <th>price</th>\n",
       "      <th>stock_quantity</th>\n",
       "      <th>stock_status</th>\n",
       "      <th>id_web</th>\n",
       "      <th>total_sales</th>\n",
       "      <th>post_author</th>\n",
       "      <th>post_date</th>\n",
       "      <th>CA / produit</th>\n",
       "    </tr>\n",
       "  </thead>\n",
       "  <tbody>\n",
       "    <tr>\n",
       "      <th>0</th>\n",
       "      <td>3847</td>\n",
       "      <td>1</td>\n",
       "      <td>24.2</td>\n",
       "      <td>0</td>\n",
       "      <td>outofstock</td>\n",
       "      <td>15298</td>\n",
       "      <td>6</td>\n",
       "      <td>2</td>\n",
       "      <td>08/02/2018 12:58</td>\n",
       "      <td>145.2</td>\n",
       "    </tr>\n",
       "    <tr>\n",
       "      <th>1</th>\n",
       "      <td>3849</td>\n",
       "      <td>1</td>\n",
       "      <td>34.3</td>\n",
       "      <td>0</td>\n",
       "      <td>outofstock</td>\n",
       "      <td>15296</td>\n",
       "      <td>0</td>\n",
       "      <td>2</td>\n",
       "      <td>08/02/2018 13:49</td>\n",
       "      <td>0.0</td>\n",
       "    </tr>\n",
       "    <tr>\n",
       "      <th>2</th>\n",
       "      <td>3850</td>\n",
       "      <td>1</td>\n",
       "      <td>20.8</td>\n",
       "      <td>0</td>\n",
       "      <td>outofstock</td>\n",
       "      <td>15300</td>\n",
       "      <td>0</td>\n",
       "      <td>2</td>\n",
       "      <td>08/02/2018 14:08</td>\n",
       "      <td>0.0</td>\n",
       "    </tr>\n",
       "    <tr>\n",
       "      <th>3</th>\n",
       "      <td>4032</td>\n",
       "      <td>1</td>\n",
       "      <td>14.1</td>\n",
       "      <td>0</td>\n",
       "      <td>outofstock</td>\n",
       "      <td>19814</td>\n",
       "      <td>3</td>\n",
       "      <td>2</td>\n",
       "      <td>09/02/2018 14:01</td>\n",
       "      <td>42.3</td>\n",
       "    </tr>\n",
       "    <tr>\n",
       "      <th>4</th>\n",
       "      <td>4039</td>\n",
       "      <td>1</td>\n",
       "      <td>46.0</td>\n",
       "      <td>0</td>\n",
       "      <td>outofstock</td>\n",
       "      <td>19815</td>\n",
       "      <td>0</td>\n",
       "      <td>2</td>\n",
       "      <td>12/02/2018 09:04</td>\n",
       "      <td>0.0</td>\n",
       "    </tr>\n",
       "    <tr>\n",
       "      <th>...</th>\n",
       "      <td>...</td>\n",
       "      <td>...</td>\n",
       "      <td>...</td>\n",
       "      <td>...</td>\n",
       "      <td>...</td>\n",
       "      <td>...</td>\n",
       "      <td>...</td>\n",
       "      <td>...</td>\n",
       "      <td>...</td>\n",
       "      <td>...</td>\n",
       "    </tr>\n",
       "    <tr>\n",
       "      <th>709</th>\n",
       "      <td>6930</td>\n",
       "      <td>1</td>\n",
       "      <td>8.4</td>\n",
       "      <td>83</td>\n",
       "      <td>instock</td>\n",
       "      <td>16135</td>\n",
       "      <td>5</td>\n",
       "      <td>2</td>\n",
       "      <td>25/04/2020 13:22</td>\n",
       "      <td>42.0</td>\n",
       "    </tr>\n",
       "    <tr>\n",
       "      <th>710</th>\n",
       "      <td>7023</td>\n",
       "      <td>1</td>\n",
       "      <td>27.5</td>\n",
       "      <td>15</td>\n",
       "      <td>instock</td>\n",
       "      <td>15891</td>\n",
       "      <td>0</td>\n",
       "      <td>2</td>\n",
       "      <td>02/05/2020 14:53</td>\n",
       "      <td>0.0</td>\n",
       "    </tr>\n",
       "    <tr>\n",
       "      <th>711</th>\n",
       "      <td>7025</td>\n",
       "      <td>1</td>\n",
       "      <td>69.0</td>\n",
       "      <td>2</td>\n",
       "      <td>instock</td>\n",
       "      <td>15887</td>\n",
       "      <td>0</td>\n",
       "      <td>2</td>\n",
       "      <td>02/05/2020 15:00</td>\n",
       "      <td>0.0</td>\n",
       "    </tr>\n",
       "    <tr>\n",
       "      <th>712</th>\n",
       "      <td>7247</td>\n",
       "      <td>1</td>\n",
       "      <td>54.8</td>\n",
       "      <td>23</td>\n",
       "      <td>instock</td>\n",
       "      <td>13127-1</td>\n",
       "      <td>0</td>\n",
       "      <td>2</td>\n",
       "      <td>09/06/2020 15:42</td>\n",
       "      <td>0.0</td>\n",
       "    </tr>\n",
       "    <tr>\n",
       "      <th>713</th>\n",
       "      <td>7338</td>\n",
       "      <td>1</td>\n",
       "      <td>16.3</td>\n",
       "      <td>45</td>\n",
       "      <td>instock</td>\n",
       "      <td>16230</td>\n",
       "      <td>0</td>\n",
       "      <td>2</td>\n",
       "      <td>20/07/2020 11:00</td>\n",
       "      <td>0.0</td>\n",
       "    </tr>\n",
       "  </tbody>\n",
       "</table>\n",
       "<p>714 rows × 10 columns</p>\n",
       "</div>"
      ],
      "text/plain": [
       "    product_id  onsale_web  price  stock_quantity stock_status   id_web  \\\n",
       "0         3847           1   24.2               0   outofstock    15298   \n",
       "1         3849           1   34.3               0   outofstock    15296   \n",
       "2         3850           1   20.8               0   outofstock    15300   \n",
       "3         4032           1   14.1               0   outofstock    19814   \n",
       "4         4039           1   46.0               0   outofstock    19815   \n",
       "..         ...         ...    ...             ...          ...      ...   \n",
       "709       6930           1    8.4              83      instock    16135   \n",
       "710       7023           1   27.5              15      instock    15891   \n",
       "711       7025           1   69.0               2      instock    15887   \n",
       "712       7247           1   54.8              23      instock  13127-1   \n",
       "713       7338           1   16.3              45      instock    16230   \n",
       "\n",
       "     total_sales  post_author         post_date  CA / produit  \n",
       "0              6            2  08/02/2018 12:58         145.2  \n",
       "1              0            2  08/02/2018 13:49           0.0  \n",
       "2              0            2  08/02/2018 14:08           0.0  \n",
       "3              3            2  09/02/2018 14:01          42.3  \n",
       "4              0            2  12/02/2018 09:04           0.0  \n",
       "..           ...          ...               ...           ...  \n",
       "709            5            2  25/04/2020 13:22          42.0  \n",
       "710            0            2  02/05/2020 14:53           0.0  \n",
       "711            0            2  02/05/2020 15:00           0.0  \n",
       "712            0            2  09/06/2020 15:42           0.0  \n",
       "713            0            2  20/07/2020 11:00           0.0  \n",
       "\n",
       "[714 rows x 10 columns]"
      ]
     },
     "execution_count": 32,
     "metadata": {},
     "output_type": "execute_result"
    }
   ],
   "source": [
    "# Création d'une colonne qui calcule le CA par produit (ex  : 24.2 x 6 = 145.2 pour le 1ère ligne)\n",
    "df2['CA / produit'] = df2['total_sales'] * df2['price']\n",
    "df2\n"
   ]
  },
  {
   "cell_type": "code",
   "execution_count": 33,
   "id": "b871848c",
   "metadata": {},
   "outputs": [
    {
     "data": {
      "text/plain": [
       "dtype('float64')"
      ]
     },
     "execution_count": 33,
     "metadata": {},
     "output_type": "execute_result"
    }
   ],
   "source": [
    "# Je regarde le type de ma colonne créé\n",
    "df2['CA / produit'].dtype"
   ]
  },
  {
   "cell_type": "markdown",
   "id": "922fdf59",
   "metadata": {},
   "source": [
    "### 2 ) Calcul du chiffre d'affaire total"
   ]
  },
  {
   "cell_type": "code",
   "execution_count": 34,
   "id": "946bdbea",
   "metadata": {},
   "outputs": [
    {
     "data": {
      "text/plain": [
       "70568.6"
      ]
     },
     "execution_count": 34,
     "metadata": {},
     "output_type": "execute_result"
    }
   ],
   "source": [
    "CA = df2['CA / produit'].sum()\n",
    "CA"
   ]
  },
  {
   "cell_type": "markdown",
   "id": "b6cde238",
   "metadata": {},
   "source": [
    "## Le chiffre d'affaire total est de 70568 EUROS"
   ]
  },
  {
   "cell_type": "markdown",
   "id": "c075d255",
   "metadata": {},
   "source": [
    "# A présent, faisont l'analyse univarié de notre variable price, regarder sa distribution, lister les eventuelles valeurs \"aberrantes\""
   ]
  },
  {
   "cell_type": "markdown",
   "id": "a614c9ad",
   "metadata": {},
   "source": [
    "### Le terme de valeur aberrante est souvent abusif :  il ne faut pas confondre valeurs aberrantes et valeurs atypiques ou outliers, les premières sont des valeurs qui n'ont pas de sens comme des erreurs, les secondes ont du sens, par exemple, des valeurs elevées par rapport à une moyenne.... On va verifier tout cela."
   ]
  },
  {
   "cell_type": "code",
   "execution_count": 35,
   "id": "bab8ce27",
   "metadata": {},
   "outputs": [
    {
     "data": {
      "text/html": [
       "<div>\n",
       "<style scoped>\n",
       "    .dataframe tbody tr th:only-of-type {\n",
       "        vertical-align: middle;\n",
       "    }\n",
       "\n",
       "    .dataframe tbody tr th {\n",
       "        vertical-align: top;\n",
       "    }\n",
       "\n",
       "    .dataframe thead th {\n",
       "        text-align: right;\n",
       "    }\n",
       "</style>\n",
       "<table border=\"1\" class=\"dataframe\">\n",
       "  <thead>\n",
       "    <tr style=\"text-align: right;\">\n",
       "      <th></th>\n",
       "      <th>product_id</th>\n",
       "      <th>onsale_web</th>\n",
       "      <th>price</th>\n",
       "      <th>stock_quantity</th>\n",
       "      <th>stock_status</th>\n",
       "      <th>id_web</th>\n",
       "      <th>total_sales</th>\n",
       "      <th>post_author</th>\n",
       "      <th>post_date</th>\n",
       "      <th>CA / produit</th>\n",
       "    </tr>\n",
       "  </thead>\n",
       "  <tbody>\n",
       "    <tr>\n",
       "      <th>count</th>\n",
       "      <td>714.0</td>\n",
       "      <td>714.0</td>\n",
       "      <td>714.000000</td>\n",
       "      <td>714.000000</td>\n",
       "      <td>714</td>\n",
       "      <td>714</td>\n",
       "      <td>714.000000</td>\n",
       "      <td>714.000000</td>\n",
       "      <td>714</td>\n",
       "      <td>714.000000</td>\n",
       "    </tr>\n",
       "    <tr>\n",
       "      <th>unique</th>\n",
       "      <td>714.0</td>\n",
       "      <td>NaN</td>\n",
       "      <td>NaN</td>\n",
       "      <td>NaN</td>\n",
       "      <td>2</td>\n",
       "      <td>714</td>\n",
       "      <td>NaN</td>\n",
       "      <td>NaN</td>\n",
       "      <td>708</td>\n",
       "      <td>NaN</td>\n",
       "    </tr>\n",
       "    <tr>\n",
       "      <th>top</th>\n",
       "      <td>3847.0</td>\n",
       "      <td>NaN</td>\n",
       "      <td>NaN</td>\n",
       "      <td>NaN</td>\n",
       "      <td>instock</td>\n",
       "      <td>15298</td>\n",
       "      <td>NaN</td>\n",
       "      <td>NaN</td>\n",
       "      <td>18/01/2020 10:54</td>\n",
       "      <td>NaN</td>\n",
       "    </tr>\n",
       "    <tr>\n",
       "      <th>freq</th>\n",
       "      <td>1.0</td>\n",
       "      <td>NaN</td>\n",
       "      <td>NaN</td>\n",
       "      <td>NaN</td>\n",
       "      <td>574</td>\n",
       "      <td>1</td>\n",
       "      <td>NaN</td>\n",
       "      <td>NaN</td>\n",
       "      <td>2</td>\n",
       "      <td>NaN</td>\n",
       "    </tr>\n",
       "    <tr>\n",
       "      <th>mean</th>\n",
       "      <td>NaN</td>\n",
       "      <td>1.0</td>\n",
       "      <td>32.493137</td>\n",
       "      <td>28.746499</td>\n",
       "      <td>NaN</td>\n",
       "      <td>NaN</td>\n",
       "      <td>4.012605</td>\n",
       "      <td>1.998599</td>\n",
       "      <td>NaN</td>\n",
       "      <td>98.835574</td>\n",
       "    </tr>\n",
       "    <tr>\n",
       "      <th>std</th>\n",
       "      <td>NaN</td>\n",
       "      <td>0.0</td>\n",
       "      <td>27.810525</td>\n",
       "      <td>48.012608</td>\n",
       "      <td>NaN</td>\n",
       "      <td>NaN</td>\n",
       "      <td>8.518183</td>\n",
       "      <td>0.037424</td>\n",
       "      <td>NaN</td>\n",
       "      <td>307.685071</td>\n",
       "    </tr>\n",
       "    <tr>\n",
       "      <th>min</th>\n",
       "      <td>NaN</td>\n",
       "      <td>1.0</td>\n",
       "      <td>5.200000</td>\n",
       "      <td>0.000000</td>\n",
       "      <td>NaN</td>\n",
       "      <td>NaN</td>\n",
       "      <td>0.000000</td>\n",
       "      <td>1.000000</td>\n",
       "      <td>NaN</td>\n",
       "      <td>0.000000</td>\n",
       "    </tr>\n",
       "    <tr>\n",
       "      <th>25%</th>\n",
       "      <td>NaN</td>\n",
       "      <td>1.0</td>\n",
       "      <td>14.100000</td>\n",
       "      <td>2.000000</td>\n",
       "      <td>NaN</td>\n",
       "      <td>NaN</td>\n",
       "      <td>0.000000</td>\n",
       "      <td>2.000000</td>\n",
       "      <td>NaN</td>\n",
       "      <td>0.000000</td>\n",
       "    </tr>\n",
       "    <tr>\n",
       "      <th>50%</th>\n",
       "      <td>NaN</td>\n",
       "      <td>1.0</td>\n",
       "      <td>23.550000</td>\n",
       "      <td>12.000000</td>\n",
       "      <td>NaN</td>\n",
       "      <td>NaN</td>\n",
       "      <td>1.000000</td>\n",
       "      <td>2.000000</td>\n",
       "      <td>NaN</td>\n",
       "      <td>15.250000</td>\n",
       "    </tr>\n",
       "    <tr>\n",
       "      <th>75%</th>\n",
       "      <td>NaN</td>\n",
       "      <td>1.0</td>\n",
       "      <td>42.175000</td>\n",
       "      <td>35.000000</td>\n",
       "      <td>NaN</td>\n",
       "      <td>NaN</td>\n",
       "      <td>4.000000</td>\n",
       "      <td>2.000000</td>\n",
       "      <td>NaN</td>\n",
       "      <td>91.150000</td>\n",
       "    </tr>\n",
       "    <tr>\n",
       "      <th>max</th>\n",
       "      <td>NaN</td>\n",
       "      <td>1.0</td>\n",
       "      <td>225.000000</td>\n",
       "      <td>578.000000</td>\n",
       "      <td>NaN</td>\n",
       "      <td>NaN</td>\n",
       "      <td>96.000000</td>\n",
       "      <td>2.000000</td>\n",
       "      <td>NaN</td>\n",
       "      <td>4704.000000</td>\n",
       "    </tr>\n",
       "  </tbody>\n",
       "</table>\n",
       "</div>"
      ],
      "text/plain": [
       "        product_id  onsale_web       price  stock_quantity stock_status  \\\n",
       "count        714.0       714.0  714.000000      714.000000          714   \n",
       "unique       714.0         NaN         NaN             NaN            2   \n",
       "top         3847.0         NaN         NaN             NaN      instock   \n",
       "freq           1.0         NaN         NaN             NaN          574   \n",
       "mean           NaN         1.0   32.493137       28.746499          NaN   \n",
       "std            NaN         0.0   27.810525       48.012608          NaN   \n",
       "min            NaN         1.0    5.200000        0.000000          NaN   \n",
       "25%            NaN         1.0   14.100000        2.000000          NaN   \n",
       "50%            NaN         1.0   23.550000       12.000000          NaN   \n",
       "75%            NaN         1.0   42.175000       35.000000          NaN   \n",
       "max            NaN         1.0  225.000000      578.000000          NaN   \n",
       "\n",
       "       id_web  total_sales  post_author         post_date  CA / produit  \n",
       "count     714   714.000000   714.000000               714    714.000000  \n",
       "unique    714          NaN          NaN               708           NaN  \n",
       "top     15298          NaN          NaN  18/01/2020 10:54           NaN  \n",
       "freq        1          NaN          NaN                 2           NaN  \n",
       "mean      NaN     4.012605     1.998599               NaN     98.835574  \n",
       "std       NaN     8.518183     0.037424               NaN    307.685071  \n",
       "min       NaN     0.000000     1.000000               NaN      0.000000  \n",
       "25%       NaN     0.000000     2.000000               NaN      0.000000  \n",
       "50%       NaN     1.000000     2.000000               NaN     15.250000  \n",
       "75%       NaN     4.000000     2.000000               NaN     91.150000  \n",
       "max       NaN    96.000000     2.000000               NaN   4704.000000  "
      ]
     },
     "execution_count": 35,
     "metadata": {},
     "output_type": "execute_result"
    }
   ],
   "source": [
    "#j'affiche les stats de df2\n",
    "df2.describe(include='all')"
   ]
  },
  {
   "cell_type": "markdown",
   "id": "df872ac0",
   "metadata": {},
   "source": [
    "### Un premier constat : les valeurs de prix vont 5.20 à 225, l'écart semble grand ! Surtout lorsque l'on regarde les pourcentage de quantiles, on voit que les 3/4 des valeurs sont en dessous de 42.17"
   ]
  },
  {
   "cell_type": "markdown",
   "id": "00617c20",
   "metadata": {},
   "source": [
    "### Regardons la distribution des valeurs \"price\" dans un histogramme "
   ]
  },
  {
   "cell_type": "code",
   "execution_count": 36,
   "id": "7bc1978c",
   "metadata": {},
   "outputs": [
    {
     "data": {
      "image/png": "[encoded data removed]",
      "text/plain": [
       "<Figure size 432x288 with 1 Axes>"
      ]
     },
     "metadata": {
      "needs_background": "light"
     },
     "output_type": "display_data"
    }
   ],
   "source": [
    "df2['price'].hist(density=True, bins=20)\n",
    "plt.title('Histogramme')\n",
    "plt.xlabel('prix')\n",
    "plt.ylabel('distribution')\n",
    "plt.show()"
   ]
  },
  {
   "cell_type": "markdown",
   "id": "12e05a71",
   "metadata": {},
   "source": [
    "### Ci dessus, on voit que la distribution des prix se concentre sur des les valeurs inférieur à 60, en d'autres termes, <b>beaucoup de ventes se font sur des petits prix.</b>"
   ]
  },
  {
   "cell_type": "markdown",
   "id": "287cfd69",
   "metadata": {},
   "source": [
    "### Ce que l'on peut faire également, c'est de regarder comment se concentre les sommes d'argents recueillis, est-ce que ces sommes d'argent se concentre sur quelques ventes ou sont étalées sur plusieurs ?"
   ]
  },
  {
   "cell_type": "markdown",
   "id": "2de55c99",
   "metadata": {},
   "source": [
    "## Courbe de Lorenz : mesure de concentration"
   ]
  },
  {
   "cell_type": "code",
   "execution_count": 37,
   "id": "cbcd47ac",
   "metadata": {},
   "outputs": [
    {
     "data": {
      "image/png": "[encoded data removed]",
      "text/plain": [
       "<Figure size 432x288 with 1 Axes>"
      ]
     },
     "metadata": {
      "needs_background": "light"
     },
     "output_type": "display_data"
    }
   ],
   "source": [
    "# Affichons une courbe de Lorenz pour voir si les ventes sont bien répartis\n",
    "\n",
    "vente = df2['price'].values          # je prend mes valeurs prix\n",
    "n = len(vente)                       # je compte le nombre de valeurs\n",
    "lorenz = np.cumsum(np.sort(vente) / vente.sum()) # je fais la somme cumulée sur un tri croissant \n",
    "                                                 # et je normalise en divisant par le total des ventes\n",
    "lorenz = np.append([0], lorenz)      # j'ajoute un zero pour que le debut de la courbe commence à 0\n",
    "xaxis = np.linspace(0,1,len(lorenz)) # je créé l'abcisse de mon graphique qui va de 0 à 1 espacé de \"lorenz\"\n",
    "plt.plot(xaxis,lorenz, drawstyle='steps-post', label='lorenz')\n",
    "plt.fill_between(xaxis,lorenz, color='lightblue')\n",
    "plt.plot([0,1],[0,1], label='ditribution parfaite')     # tracage de la 1ere bissectrice (répartition parfaite)\n",
    "plt.plot([0.78,0.78],[0,0.5],'--', color='green', label='medial')\n",
    "plt.plot([0,0.78],[0.5,0.5], '--', color='green')\n",
    "plt.xlabel('Nombres de ventes')\n",
    "plt.ylabel('Sommes de ventes cumulées')\n",
    "plt.title('Courbe de Lorenz')\n",
    "plt.legend()\n",
    "plt.show()        "
   ]
  },
  {
   "cell_type": "markdown",
   "id": "c223228b",
   "metadata": {},
   "source": [
    "### Que nous apprend cette courbe de lorenz ?\n"
   ]
  },
  {
   "cell_type": "markdown",
   "id": "19013391",
   "metadata": {},
   "source": [
    "### <i>Le tracé vert en pointillé est la médiale. Cela nous indique que 50% du chiffre d'affaire total est réalisé par 78% des ventes. Donc 22% des ventes représente 50% du CA total. De ce fait, la répartition est plutot inégale. </i>"
   ]
  },
  {
   "cell_type": "markdown",
   "id": "bda9f3b7",
   "metadata": {},
   "source": [
    "## A présent, jetons un oeil sur la tendance centrale : moyenne, mediane, mode"
   ]
  },
  {
   "cell_type": "code",
   "execution_count": 38,
   "id": "f1de29e3",
   "metadata": {},
   "outputs": [
    {
     "name": "stdout",
     "output_type": "stream",
     "text": [
      "32.49\n",
      "23.55\n",
      "0    19.0\n",
      "dtype: float64\n"
     ]
    }
   ],
   "source": [
    "print(round(df2['price'].mean(),2))\n",
    "print(round(df2['price'].median(),2))\n",
    "print(round(df2['price'].mode(),2))"
   ]
  },
  {
   "cell_type": "markdown",
   "id": "970bcdb1",
   "metadata": {},
   "source": [
    "### Moyenne > mediane > mode. La moyenne est plus grande que la médiane, qui est plus grande que le mode, cela nous confirme que notre distribution est inégale donc asymétrique (voir histogramme plus haut). on peut constater cette asymétrie par le skewness empirique qui nous indique si la répartition se fait de maniere régulière ou non autour de la valeur centrale."
   ]
  },
  {
   "cell_type": "code",
   "execution_count": 39,
   "id": "bd2f18b7",
   "metadata": {},
   "outputs": [
    {
     "data": {
      "text/plain": [
       "2.58090126300337"
      ]
     },
     "execution_count": 39,
     "metadata": {},
     "output_type": "execute_result"
    }
   ],
   "source": [
    "df2['price'].skew()"
   ]
  },
  {
   "cell_type": "markdown",
   "id": "de5d7018",
   "metadata": {},
   "source": [
    "### Un skewness supérieur à 0 comme ici c'est la cas, confirme l'asymétrie positive. (étalement à droite)."
   ]
  },
  {
   "cell_type": "markdown",
   "id": "f3d89ed2",
   "metadata": {},
   "source": [
    "### Regardons à présent, comment se dispersent les valeurs autour de la moyenne avec l'ecart type"
   ]
  },
  {
   "cell_type": "code",
   "execution_count": 40,
   "id": "c13097b8",
   "metadata": {},
   "outputs": [
    {
     "data": {
      "text/plain": [
       "27.791042941002935"
      ]
     },
     "execution_count": 40,
     "metadata": {},
     "output_type": "execute_result"
    }
   ],
   "source": [
    "df2['price'].std(ddof=0)"
   ]
  },
  {
   "cell_type": "markdown",
   "id": "bb150f83",
   "metadata": {},
   "source": [
    "### Les valeurs sont tres dispersées autour de la moyennee comme en témoigne cet ecart-type élevé"
   ]
  },
  {
   "cell_type": "markdown",
   "id": "c1b2d353",
   "metadata": {},
   "source": [
    "### Maintenant, représentons la distribution de la variable price avec les outliers dans un diagrame en boite. On voit qu'au dessus de 85 environ, nos valeurs sont considérés comme des outliers"
   ]
  },
  {
   "cell_type": "code",
   "execution_count": 41,
   "id": "bcd93cb2",
   "metadata": {},
   "outputs": [
    {
     "data": {
      "image/png": "[encoded data removed]",
      "text/plain": [
       "<Figure size 432x288 with 1 Axes>"
      ]
     },
     "metadata": {
      "needs_background": "light"
     },
     "output_type": "display_data"
    }
   ],
   "source": [
    "df2.boxplot('price', vert=False, showmeans=True)\n",
    "plt.rcParams['figure.figsize'] = (7,8)\n",
    "plt.show()"
   ]
  },
  {
   "cell_type": "markdown",
   "id": "da4b3897",
   "metadata": {},
   "source": [
    "### Regardons à présent la liste de ces outliers"
   ]
  },
  {
   "cell_type": "code",
   "execution_count": 56,
   "id": "35693cc7",
   "metadata": {},
   "outputs": [
    {
     "data": {
      "text/html": [
       "<div>\n",
       "<style scoped>\n",
       "    .dataframe tbody tr th:only-of-type {\n",
       "        vertical-align: middle;\n",
       "    }\n",
       "\n",
       "    .dataframe tbody tr th {\n",
       "        vertical-align: top;\n",
       "    }\n",
       "\n",
       "    .dataframe thead th {\n",
       "        text-align: right;\n",
       "    }\n",
       "</style>\n",
       "<table border=\"1\" class=\"dataframe\">\n",
       "  <thead>\n",
       "    <tr style=\"text-align: right;\">\n",
       "      <th></th>\n",
       "      <th>product_id</th>\n",
       "      <th>onsale_web</th>\n",
       "      <th>price</th>\n",
       "      <th>stock_quantity</th>\n",
       "      <th>stock_status</th>\n",
       "      <th>id_web</th>\n",
       "      <th>total_sales</th>\n",
       "      <th>post_author</th>\n",
       "      <th>post_date</th>\n",
       "      <th>CA / produit</th>\n",
       "    </tr>\n",
       "  </thead>\n",
       "  <tbody>\n",
       "    <tr>\n",
       "      <th>63</th>\n",
       "      <td>4115</td>\n",
       "      <td>1</td>\n",
       "      <td>100.0</td>\n",
       "      <td>11</td>\n",
       "      <td>instock</td>\n",
       "      <td>15382</td>\n",
       "      <td>0</td>\n",
       "      <td>2</td>\n",
       "      <td>13/02/2018 11:08</td>\n",
       "      <td>0.0</td>\n",
       "    </tr>\n",
       "    <tr>\n",
       "      <th>65</th>\n",
       "      <td>4132</td>\n",
       "      <td>1</td>\n",
       "      <td>88.4</td>\n",
       "      <td>5</td>\n",
       "      <td>instock</td>\n",
       "      <td>11668</td>\n",
       "      <td>0</td>\n",
       "      <td>2</td>\n",
       "      <td>13/02/2018 11:43</td>\n",
       "      <td>0.0</td>\n",
       "    </tr>\n",
       "    <tr>\n",
       "      <th>199</th>\n",
       "      <td>4352</td>\n",
       "      <td>1</td>\n",
       "      <td>225.0</td>\n",
       "      <td>0</td>\n",
       "      <td>outofstock</td>\n",
       "      <td>15940</td>\n",
       "      <td>5</td>\n",
       "      <td>2</td>\n",
       "      <td>02/03/2018 10:30</td>\n",
       "      <td>1125.0</td>\n",
       "    </tr>\n",
       "    <tr>\n",
       "      <th>201</th>\n",
       "      <td>4355</td>\n",
       "      <td>1</td>\n",
       "      <td>126.5</td>\n",
       "      <td>2</td>\n",
       "      <td>instock</td>\n",
       "      <td>12589</td>\n",
       "      <td>11</td>\n",
       "      <td>2</td>\n",
       "      <td>02/03/2018 10:46</td>\n",
       "      <td>1391.5</td>\n",
       "    </tr>\n",
       "    <tr>\n",
       "      <th>205</th>\n",
       "      <td>4359</td>\n",
       "      <td>1</td>\n",
       "      <td>85.6</td>\n",
       "      <td>0</td>\n",
       "      <td>outofstock</td>\n",
       "      <td>13853</td>\n",
       "      <td>1</td>\n",
       "      <td>2</td>\n",
       "      <td>02/03/2018 11:11</td>\n",
       "      <td>85.6</td>\n",
       "    </tr>\n",
       "    <tr>\n",
       "      <th>218</th>\n",
       "      <td>4402</td>\n",
       "      <td>1</td>\n",
       "      <td>176.0</td>\n",
       "      <td>8</td>\n",
       "      <td>instock</td>\n",
       "      <td>3510</td>\n",
       "      <td>13</td>\n",
       "      <td>2</td>\n",
       "      <td>22/03/2018 11:21</td>\n",
       "      <td>2288.0</td>\n",
       "    </tr>\n",
       "    <tr>\n",
       "      <th>219</th>\n",
       "      <td>4404</td>\n",
       "      <td>1</td>\n",
       "      <td>108.5</td>\n",
       "      <td>2</td>\n",
       "      <td>instock</td>\n",
       "      <td>3507</td>\n",
       "      <td>2</td>\n",
       "      <td>2</td>\n",
       "      <td>22/03/2018 11:32</td>\n",
       "      <td>217.0</td>\n",
       "    </tr>\n",
       "    <tr>\n",
       "      <th>221</th>\n",
       "      <td>4406</td>\n",
       "      <td>1</td>\n",
       "      <td>157.0</td>\n",
       "      <td>3</td>\n",
       "      <td>instock</td>\n",
       "      <td>7819</td>\n",
       "      <td>0</td>\n",
       "      <td>2</td>\n",
       "      <td>22/03/2018 11:42</td>\n",
       "      <td>0.0</td>\n",
       "    </tr>\n",
       "    <tr>\n",
       "      <th>222</th>\n",
       "      <td>4407</td>\n",
       "      <td>1</td>\n",
       "      <td>104.0</td>\n",
       "      <td>6</td>\n",
       "      <td>instock</td>\n",
       "      <td>3509</td>\n",
       "      <td>1</td>\n",
       "      <td>2</td>\n",
       "      <td>22/03/2018 11:49</td>\n",
       "      <td>104.0</td>\n",
       "    </tr>\n",
       "    <tr>\n",
       "      <th>227</th>\n",
       "      <td>4582</td>\n",
       "      <td>1</td>\n",
       "      <td>109.6</td>\n",
       "      <td>7</td>\n",
       "      <td>instock</td>\n",
       "      <td>12857</td>\n",
       "      <td>0</td>\n",
       "      <td>2</td>\n",
       "      <td>12/04/2018 17:56</td>\n",
       "      <td>0.0</td>\n",
       "    </tr>\n",
       "    <tr>\n",
       "      <th>380</th>\n",
       "      <td>4903</td>\n",
       "      <td>1</td>\n",
       "      <td>102.3</td>\n",
       "      <td>20</td>\n",
       "      <td>instock</td>\n",
       "      <td>14805</td>\n",
       "      <td>0</td>\n",
       "      <td>2</td>\n",
       "      <td>15/05/2018 10:10</td>\n",
       "      <td>0.0</td>\n",
       "    </tr>\n",
       "    <tr>\n",
       "      <th>381</th>\n",
       "      <td>4904</td>\n",
       "      <td>1</td>\n",
       "      <td>137.0</td>\n",
       "      <td>13</td>\n",
       "      <td>instock</td>\n",
       "      <td>14220</td>\n",
       "      <td>5</td>\n",
       "      <td>2</td>\n",
       "      <td>15/05/2018 10:23</td>\n",
       "      <td>685.0</td>\n",
       "    </tr>\n",
       "    <tr>\n",
       "      <th>426</th>\n",
       "      <td>5001</td>\n",
       "      <td>1</td>\n",
       "      <td>217.5</td>\n",
       "      <td>20</td>\n",
       "      <td>instock</td>\n",
       "      <td>14581</td>\n",
       "      <td>0</td>\n",
       "      <td>2</td>\n",
       "      <td>17/07/2018 09:45</td>\n",
       "      <td>0.0</td>\n",
       "    </tr>\n",
       "    <tr>\n",
       "      <th>431</th>\n",
       "      <td>5007</td>\n",
       "      <td>1</td>\n",
       "      <td>105.0</td>\n",
       "      <td>17</td>\n",
       "      <td>instock</td>\n",
       "      <td>12791</td>\n",
       "      <td>0</td>\n",
       "      <td>2</td>\n",
       "      <td>17/07/2018 10:36</td>\n",
       "      <td>0.0</td>\n",
       "    </tr>\n",
       "    <tr>\n",
       "      <th>432</th>\n",
       "      <td>5008</td>\n",
       "      <td>1</td>\n",
       "      <td>105.0</td>\n",
       "      <td>10</td>\n",
       "      <td>instock</td>\n",
       "      <td>11602</td>\n",
       "      <td>0</td>\n",
       "      <td>2</td>\n",
       "      <td>17/07/2018 10:52</td>\n",
       "      <td>0.0</td>\n",
       "    </tr>\n",
       "    <tr>\n",
       "      <th>437</th>\n",
       "      <td>5025</td>\n",
       "      <td>1</td>\n",
       "      <td>112.0</td>\n",
       "      <td>0</td>\n",
       "      <td>outofstock</td>\n",
       "      <td>13914</td>\n",
       "      <td>0</td>\n",
       "      <td>2</td>\n",
       "      <td>18/07/2018 10:39</td>\n",
       "      <td>0.0</td>\n",
       "    </tr>\n",
       "    <tr>\n",
       "      <th>438</th>\n",
       "      <td>5026</td>\n",
       "      <td>1</td>\n",
       "      <td>86.8</td>\n",
       "      <td>2</td>\n",
       "      <td>instock</td>\n",
       "      <td>13913</td>\n",
       "      <td>0</td>\n",
       "      <td>2</td>\n",
       "      <td>18/07/2018 10:46</td>\n",
       "      <td>0.0</td>\n",
       "    </tr>\n",
       "    <tr>\n",
       "      <th>502</th>\n",
       "      <td>5565</td>\n",
       "      <td>1</td>\n",
       "      <td>92.0</td>\n",
       "      <td>0</td>\n",
       "      <td>outofstock</td>\n",
       "      <td>19822</td>\n",
       "      <td>0</td>\n",
       "      <td>2</td>\n",
       "      <td>26/11/2018 10:59</td>\n",
       "      <td>0.0</td>\n",
       "    </tr>\n",
       "    <tr>\n",
       "      <th>511</th>\n",
       "      <td>5612</td>\n",
       "      <td>1</td>\n",
       "      <td>124.8</td>\n",
       "      <td>12</td>\n",
       "      <td>instock</td>\n",
       "      <td>14915</td>\n",
       "      <td>0</td>\n",
       "      <td>2</td>\n",
       "      <td>15/01/2019 15:30</td>\n",
       "      <td>0.0</td>\n",
       "    </tr>\n",
       "    <tr>\n",
       "      <th>553</th>\n",
       "      <td>5767</td>\n",
       "      <td>1</td>\n",
       "      <td>175.0</td>\n",
       "      <td>12</td>\n",
       "      <td>instock</td>\n",
       "      <td>15185</td>\n",
       "      <td>0</td>\n",
       "      <td>2</td>\n",
       "      <td>13/03/2019 14:43</td>\n",
       "      <td>0.0</td>\n",
       "    </tr>\n",
       "    <tr>\n",
       "      <th>587</th>\n",
       "      <td>5892</td>\n",
       "      <td>1</td>\n",
       "      <td>191.3</td>\n",
       "      <td>10</td>\n",
       "      <td>instock</td>\n",
       "      <td>14983</td>\n",
       "      <td>3</td>\n",
       "      <td>2</td>\n",
       "      <td>28/03/2019 10:21</td>\n",
       "      <td>573.9</td>\n",
       "    </tr>\n",
       "    <tr>\n",
       "      <th>602</th>\n",
       "      <td>5916</td>\n",
       "      <td>1</td>\n",
       "      <td>93.0</td>\n",
       "      <td>3</td>\n",
       "      <td>instock</td>\n",
       "      <td>14774</td>\n",
       "      <td>0</td>\n",
       "      <td>2</td>\n",
       "      <td>04/04/2019 16:39</td>\n",
       "      <td>0.0</td>\n",
       "    </tr>\n",
       "    <tr>\n",
       "      <th>603</th>\n",
       "      <td>5917</td>\n",
       "      <td>1</td>\n",
       "      <td>122.0</td>\n",
       "      <td>4</td>\n",
       "      <td>instock</td>\n",
       "      <td>14775</td>\n",
       "      <td>0</td>\n",
       "      <td>2</td>\n",
       "      <td>04/04/2019 16:49</td>\n",
       "      <td>0.0</td>\n",
       "    </tr>\n",
       "    <tr>\n",
       "      <th>604</th>\n",
       "      <td>5918</td>\n",
       "      <td>1</td>\n",
       "      <td>114.0</td>\n",
       "      <td>8</td>\n",
       "      <td>instock</td>\n",
       "      <td>14773</td>\n",
       "      <td>0</td>\n",
       "      <td>2</td>\n",
       "      <td>04/04/2019 17:01</td>\n",
       "      <td>0.0</td>\n",
       "    </tr>\n",
       "    <tr>\n",
       "      <th>642</th>\n",
       "      <td>6126</td>\n",
       "      <td>1</td>\n",
       "      <td>135.0</td>\n",
       "      <td>10</td>\n",
       "      <td>instock</td>\n",
       "      <td>14923</td>\n",
       "      <td>2</td>\n",
       "      <td>2</td>\n",
       "      <td>28/06/2019 17:22</td>\n",
       "      <td>270.0</td>\n",
       "    </tr>\n",
       "    <tr>\n",
       "      <th>647</th>\n",
       "      <td>6201</td>\n",
       "      <td>1</td>\n",
       "      <td>105.6</td>\n",
       "      <td>7</td>\n",
       "      <td>instock</td>\n",
       "      <td>14596</td>\n",
       "      <td>0</td>\n",
       "      <td>2</td>\n",
       "      <td>23/07/2019 10:37</td>\n",
       "      <td>0.0</td>\n",
       "    </tr>\n",
       "    <tr>\n",
       "      <th>648</th>\n",
       "      <td>6202</td>\n",
       "      <td>1</td>\n",
       "      <td>116.4</td>\n",
       "      <td>14</td>\n",
       "      <td>instock</td>\n",
       "      <td>15126</td>\n",
       "      <td>0</td>\n",
       "      <td>2</td>\n",
       "      <td>23/07/2019 10:50</td>\n",
       "      <td>0.0</td>\n",
       "    </tr>\n",
       "    <tr>\n",
       "      <th>653</th>\n",
       "      <td>6212</td>\n",
       "      <td>1</td>\n",
       "      <td>115.0</td>\n",
       "      <td>2</td>\n",
       "      <td>instock</td>\n",
       "      <td>13996</td>\n",
       "      <td>2</td>\n",
       "      <td>2</td>\n",
       "      <td>25/07/2019 09:09</td>\n",
       "      <td>230.0</td>\n",
       "    </tr>\n",
       "    <tr>\n",
       "      <th>654</th>\n",
       "      <td>6213</td>\n",
       "      <td>1</td>\n",
       "      <td>121.0</td>\n",
       "      <td>7</td>\n",
       "      <td>instock</td>\n",
       "      <td>15072</td>\n",
       "      <td>0</td>\n",
       "      <td>2</td>\n",
       "      <td>25/07/2019 09:10</td>\n",
       "      <td>0.0</td>\n",
       "    </tr>\n",
       "    <tr>\n",
       "      <th>655</th>\n",
       "      <td>6214</td>\n",
       "      <td>1</td>\n",
       "      <td>99.0</td>\n",
       "      <td>7</td>\n",
       "      <td>instock</td>\n",
       "      <td>11601</td>\n",
       "      <td>0</td>\n",
       "      <td>2</td>\n",
       "      <td>25/07/2019 09:15</td>\n",
       "      <td>0.0</td>\n",
       "    </tr>\n",
       "    <tr>\n",
       "      <th>656</th>\n",
       "      <td>6215</td>\n",
       "      <td>1</td>\n",
       "      <td>115.0</td>\n",
       "      <td>4</td>\n",
       "      <td>instock</td>\n",
       "      <td>12790</td>\n",
       "      <td>0</td>\n",
       "      <td>2</td>\n",
       "      <td>25/07/2019 09:30</td>\n",
       "      <td>0.0</td>\n",
       "    </tr>\n",
       "    <tr>\n",
       "      <th>657</th>\n",
       "      <td>6216</td>\n",
       "      <td>1</td>\n",
       "      <td>121.0</td>\n",
       "      <td>6</td>\n",
       "      <td>instock</td>\n",
       "      <td>15070</td>\n",
       "      <td>0</td>\n",
       "      <td>2</td>\n",
       "      <td>25/07/2019 09:31</td>\n",
       "      <td>0.0</td>\n",
       "    </tr>\n",
       "  </tbody>\n",
       "</table>\n",
       "</div>"
      ],
      "text/plain": [
       "    product_id  onsale_web  price  stock_quantity stock_status id_web  \\\n",
       "63        4115           1  100.0              11      instock  15382   \n",
       "65        4132           1   88.4               5      instock  11668   \n",
       "199       4352           1  225.0               0   outofstock  15940   \n",
       "201       4355           1  126.5               2      instock  12589   \n",
       "205       4359           1   85.6               0   outofstock  13853   \n",
       "218       4402           1  176.0               8      instock   3510   \n",
       "219       4404           1  108.5               2      instock   3507   \n",
       "221       4406           1  157.0               3      instock   7819   \n",
       "222       4407           1  104.0               6      instock   3509   \n",
       "227       4582           1  109.6               7      instock  12857   \n",
       "380       4903           1  102.3              20      instock  14805   \n",
       "381       4904           1  137.0              13      instock  14220   \n",
       "426       5001           1  217.5              20      instock  14581   \n",
       "431       5007           1  105.0              17      instock  12791   \n",
       "432       5008           1  105.0              10      instock  11602   \n",
       "437       5025           1  112.0               0   outofstock  13914   \n",
       "438       5026           1   86.8               2      instock  13913   \n",
       "502       5565           1   92.0               0   outofstock  19822   \n",
       "511       5612           1  124.8              12      instock  14915   \n",
       "553       5767           1  175.0              12      instock  15185   \n",
       "587       5892           1  191.3              10      instock  14983   \n",
       "602       5916           1   93.0               3      instock  14774   \n",
       "603       5917           1  122.0               4      instock  14775   \n",
       "604       5918           1  114.0               8      instock  14773   \n",
       "642       6126           1  135.0              10      instock  14923   \n",
       "647       6201           1  105.6               7      instock  14596   \n",
       "648       6202           1  116.4              14      instock  15126   \n",
       "653       6212           1  115.0               2      instock  13996   \n",
       "654       6213           1  121.0               7      instock  15072   \n",
       "655       6214           1   99.0               7      instock  11601   \n",
       "656       6215           1  115.0               4      instock  12790   \n",
       "657       6216           1  121.0               6      instock  15070   \n",
       "\n",
       "     total_sales  post_author         post_date  CA / produit  \n",
       "63             0            2  13/02/2018 11:08           0.0  \n",
       "65             0            2  13/02/2018 11:43           0.0  \n",
       "199            5            2  02/03/2018 10:30        1125.0  \n",
       "201           11            2  02/03/2018 10:46        1391.5  \n",
       "205            1            2  02/03/2018 11:11          85.6  \n",
       "218           13            2  22/03/2018 11:21        2288.0  \n",
       "219            2            2  22/03/2018 11:32         217.0  \n",
       "221            0            2  22/03/2018 11:42           0.0  \n",
       "222            1            2  22/03/2018 11:49         104.0  \n",
       "227            0            2  12/04/2018 17:56           0.0  \n",
       "380            0            2  15/05/2018 10:10           0.0  \n",
       "381            5            2  15/05/2018 10:23         685.0  \n",
       "426            0            2  17/07/2018 09:45           0.0  \n",
       "431            0            2  17/07/2018 10:36           0.0  \n",
       "432            0            2  17/07/2018 10:52           0.0  \n",
       "437            0            2  18/07/2018 10:39           0.0  \n",
       "438            0            2  18/07/2018 10:46           0.0  \n",
       "502            0            2  26/11/2018 10:59           0.0  \n",
       "511            0            2  15/01/2019 15:30           0.0  \n",
       "553            0            2  13/03/2019 14:43           0.0  \n",
       "587            3            2  28/03/2019 10:21         573.9  \n",
       "602            0            2  04/04/2019 16:39           0.0  \n",
       "603            0            2  04/04/2019 16:49           0.0  \n",
       "604            0            2  04/04/2019 17:01           0.0  \n",
       "642            2            2  28/06/2019 17:22         270.0  \n",
       "647            0            2  23/07/2019 10:37           0.0  \n",
       "648            0            2  23/07/2019 10:50           0.0  \n",
       "653            2            2  25/07/2019 09:09         230.0  \n",
       "654            0            2  25/07/2019 09:10           0.0  \n",
       "655            0            2  25/07/2019 09:15           0.0  \n",
       "656            0            2  25/07/2019 09:30           0.0  \n",
       "657            0            2  25/07/2019 09:31           0.0  "
      ]
     },
     "execution_count": 56,
     "metadata": {},
     "output_type": "execute_result"
    }
   ],
   "source": [
    "df_outlier = df2[df2['price'] >= 85]\n",
    "df_outlier"
   ]
  },
  {
   "cell_type": "code",
   "execution_count": 57,
   "id": "fde927dc",
   "metadata": {},
   "outputs": [
    {
     "data": {
      "text/plain": [
       "6970.0"
      ]
     },
     "execution_count": 57,
     "metadata": {},
     "output_type": "execute_result"
    }
   ],
   "source": [
    "# Somme de la colonne CA/produit des outliers\n",
    "ca_outlier = df_outlier['CA / produit'].sum()\n",
    "ca_outlier"
   ]
  },
  {
   "cell_type": "markdown",
   "id": "21076803",
   "metadata": {},
   "source": [
    "### Que représente les ouliers dans notre CA total"
   ]
  },
  {
   "cell_type": "code",
   "execution_count": 58,
   "id": "484ddcdf",
   "metadata": {},
   "outputs": [],
   "source": [
    "pourcent_outlier = round(ca_outlier/CA*100,2)"
   ]
  },
  {
   "cell_type": "code",
   "execution_count": 59,
   "id": "a3672ebc",
   "metadata": {},
   "outputs": [
    {
     "data": {
      "text/plain": [
       "9.88"
      ]
     },
     "execution_count": 59,
     "metadata": {},
     "output_type": "execute_result"
    }
   ],
   "source": [
    "pourcent_outlier"
   ]
  },
  {
   "cell_type": "markdown",
   "id": "758c995d",
   "metadata": {},
   "source": [
    "### Le chiffre d'afffaire total des produits dont le prix de vente est supérieur à 85 (outliers) est de 6970"
   ]
  },
  {
   "cell_type": "markdown",
   "id": "34880237",
   "metadata": {},
   "source": [
    "### Le pourcentage du CA outliers sur le CA total est de 9,88%"
   ]
  },
  {
   "cell_type": "markdown",
   "id": "8635ea3b",
   "metadata": {},
   "source": [
    "### Nous sommes en présence de prix dont la valeurs sont atypiques et non aberrantes, rien d'anormal donc"
   ]
  },
  {
   "cell_type": "code",
   "execution_count": 60,
   "id": "7b6b6d61",
   "metadata": {},
   "outputs": [],
   "source": [
    "df_normal = df2[df2['price'] < 85]"
   ]
  },
  {
   "cell_type": "code",
   "execution_count": 65,
   "id": "051d7a8a",
   "metadata": {},
   "outputs": [
    {
     "name": "stdout",
     "output_type": "stream",
     "text": [
      "2820\n",
      "45\n"
     ]
    }
   ],
   "source": [
    "nb_vente_total = df_normal['total_sales'].sum()\n",
    "nb_vente_outlier = df_outlier['total_sales'].sum()\n",
    "print(nb_vente_total)\n",
    "print(nb_vente_outlier)"
   ]
  },
  {
   "cell_type": "code",
   "execution_count": 79,
   "id": "db576c35",
   "metadata": {},
   "outputs": [
    {
     "data": {
      "text/plain": [
       "1.6"
      ]
     },
     "execution_count": 79,
     "metadata": {},
     "output_type": "execute_result"
    }
   ],
   "source": [
    "prtg_vente_outlier = round(nb_vente_outlier/nb_vente_total*100,2)\n",
    "prtg_vente_outlier"
   ]
  },
  {
   "cell_type": "markdown",
   "id": "a3b89d70",
   "metadata": {},
   "source": [
    "## 9,88 % du chiffre d'affaires est réalisé par 1,6 % du nombres de ventes donc s'intéresser au prix de vente supérieur à 85 euros (outliers) pour augmenter le chiffres d'affaires n'est pas une mauvaise idée."
   ]
  },
  {
   "cell_type": "markdown",
   "id": "3ef26ce6",
   "metadata": {},
   "source": [
    "# FIN DE L'ANALYSE"
   ]
  }
 ],
 "metadata": {
  "kernelspec": {
   "display_name": "Python 3 (ipykernel)",
   "language": "python",
   "name": "python3"
  },
  "language_info": {
   "codemirror_mode": {
    "name": "ipython",
    "version": 3
   },
   "file_extension": ".py",
   "mimetype": "text/x-python",
   "name": "python",
   "nbconvert_exporter": "python",
   "pygments_lexer": "ipython3",
   "version": "3.9.7"
  }
 },
 "nbformat": 4,
 "nbformat_minor": 5
}
